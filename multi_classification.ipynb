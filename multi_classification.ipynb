{
 "cells": [
  {
   "cell_type": "code",
   "execution_count": 1,
   "id": "082ebe75-ef6f-4be3-ab1e-e11ff45decd6",
   "metadata": {},
   "outputs": [],
   "source": [
    "import numpy as np"
   ]
  },
  {
   "cell_type": "code",
   "execution_count": 2,
   "id": "5171a0f5-17a2-4f3d-b5ac-a93a81ed3ff9",
   "metadata": {},
   "outputs": [
    {
     "name": "stdout",
     "output_type": "stream",
     "text": [
      "[[ 2  4]\n",
      " [ 4 11]\n",
      " [ 6  6]\n",
      " [ 8  5]\n",
      " [10  7]\n",
      " [12 16]\n",
      " [14  8]\n",
      " [16  3]\n",
      " [18  7]]\n",
      "[[0]\n",
      " [0]\n",
      " [0]\n",
      " [0]\n",
      " [1]\n",
      " [1]\n",
      " [1]\n",
      " [1]\n",
      " [1]]\n"
     ]
    }
   ],
   "source": [
    "# multi\n",
    "x_data = np.array([[2,4],[4,11],[6,6],[8,5],[10,7],[12,16],[14,8],[16,3],[18,7]])\n",
    "y_data = np.array([0,0,0,0,1,1,1,1,1]).reshape(9,1)\n",
    "\n",
    "print(x_data)\n",
    "print(y_data)"
   ]
  },
  {
   "cell_type": "code",
   "execution_count": 3,
   "id": "8dfc2d75-7a69-4614-a664-c377a8a6beff",
   "metadata": {},
   "outputs": [
    {
     "name": "stdout",
     "output_type": "stream",
     "text": [
      "W = [[0.02716533]\n",
      " [0.24932983]] // b = [0.89918967]\n"
     ]
    }
   ],
   "source": [
    "W=np.random.rand(2,1)\n",
    "b=np.random.rand(1)\n",
    "\n",
    "print('W =',W,'// b =', b)"
   ]
  },
  {
   "cell_type": "code",
   "execution_count": 4,
   "id": "5faad5b3-8db9-4b6c-b169-80ec70b2b46f",
   "metadata": {},
   "outputs": [],
   "source": [
    "def sigmoid(x):\n",
    "    return 1/(1+np.exp(-x))"
   ]
  },
  {
   "cell_type": "code",
   "execution_count": 5,
   "id": "8adeaa67-ee46-4c90-b271-7215fa0b7fa6",
   "metadata": {},
   "outputs": [],
   "source": [
    "# 손실함수\n",
    "def loss_func(x,t):\n",
    "    delta = 1e-7 #log 무한대 발산 방지\n",
    "    \n",
    "    z= np.dot(x,W) + b\n",
    "    y = sigmoid(z)\n",
    "    \n",
    "    #cross-entropy\n",
    "    return -np.sum( t*np.log(y + delta) + (1-t)*np.log((1-y)+delta) )"
   ]
  },
  {
   "cell_type": "code",
   "execution_count": 6,
   "id": "3fc56137-b225-41ea-b37e-1bca70cbea40",
   "metadata": {},
   "outputs": [],
   "source": [
    "# 수치 미분\n",
    "def numerical_derivative(f,x):\n",
    "    delta_x = 1e-4\n",
    "    grad = np.zeros_like(x)\n",
    "    \n",
    "#     print(\"debug 1. initial input variable =\", x)\n",
    "#     print(\"debug 2. initial input grad =\", grad)\n",
    "#     print(\"=\"*25)\n",
    "    \n",
    "    it = np.nditer(x,flags = ['multi_index'],op_flags=['readwrite'])\n",
    "    \n",
    "    while not it.finished:\n",
    "        idx = it.multi_index\n",
    "        \n",
    "#         print(\"debug 3. idx=\", idx, \", x[idx]=\",x[idx])\n",
    "        \n",
    "        tmp_val = x[idx]\n",
    "        x[idx] = float(tmp_val) + delta_x\n",
    "        fx1 = f(x) #f(x+delta_x)\n",
    "        \n",
    "        x[idx] = float(tmp_val) - delta_x\n",
    "        fx2 = f(x) #f(x-delta_x)\n",
    "        grad[idx]=(fx1- fx2) / (2*delta_x)\n",
    "        \n",
    "#         print(\"debug 4. grad[idx] = \", grad[idx])\n",
    "#         print(\"debug 5. grad = \", grad)\n",
    "#         print(\"=\"*25)\n",
    "        \n",
    "        x[idx] = tmp_val\n",
    "        it.iternext()\n",
    "        \n",
    "    return grad"
   ]
  },
  {
   "cell_type": "code",
   "execution_count": 7,
   "id": "8da399fc-2b36-4cc6-af96-1f5b5f3ccd2c",
   "metadata": {},
   "outputs": [],
   "source": [
    "def error_val(x,t):\n",
    "    delta = 1e-7   # log 무한대 발산 방지\n",
    "    \n",
    "    z = np.dot(x,W) + b\n",
    "    y = sigmoid(z)\n",
    "    \n",
    "    #cross-entropy\n",
    "    return -np.sum( t*np.log(y + delta) + (1-t)*np.log((1-y)+delta) )"
   ]
  },
  {
   "cell_type": "code",
   "execution_count": 8,
   "id": "da7a1dc8-f31d-4825-b3af-91b080466ba3",
   "metadata": {},
   "outputs": [],
   "source": [
    "# 예측함수\n",
    "def predict(x):\n",
    "    \n",
    "    z = np.dot(x,W) + b\n",
    "    y = sigmoid(z)\n",
    "    \n",
    "    if y > 0.5:\n",
    "        result = 1  # True\n",
    "    else:\n",
    "        result = 0  # False\n",
    "    return y, result"
   ]
  },
  {
   "cell_type": "code",
   "execution_count": 19,
   "id": "12b13e22-73a7-4c10-b99e-fc21c120a0a8",
   "metadata": {},
   "outputs": [
    {
     "name": "stdout",
     "output_type": "stream",
     "text": [
      "Initial error value: 0.11334387052239721 Initail W= [[2.02290243]\n",
      " [0.87919585]] Initali b= [-23.39772708]\n",
      "step 0 error value= 0.11334180438014409 W= [[2.02291319]\n",
      " [0.87920359]] b= [-23.39787029]\n",
      "step 400 error value= 0.11252128941008982 W= [[2.02720307]\n",
      " [0.88228877]] b= [-23.45494484]\n",
      "step 800 error value= 0.11171246072623764 W= [[2.03146299]\n",
      " [0.88535079]] b= [-23.5116113]\n",
      "step 1200 error value= 0.11091507201411012 W= [[2.03569337]\n",
      " [0.88838998]] b= [-23.5678754]\n",
      "step 1600 error value= 0.11012888380120789 W= [[2.0398946 ]\n",
      " [0.89140668]] b= [-23.62374278]\n",
      "step 2000 error value= 0.10935366322192419 W= [[2.04406709]\n",
      " [0.89440121]] b= [-23.67921892]\n",
      "step 2400 error value= 0.10858918379196185 W= [[2.04821121]\n",
      " [0.89737391]] b= [-23.73430922]\n",
      "step 2800 error value= 0.10783522519197107 W= [[2.05232734]\n",
      " [0.90032507]] b= [-23.78901896]\n",
      "step 3200 error value= 0.10709157305994257 W= [[2.05641586]\n",
      " [0.90325501]] b= [-23.84335332]\n",
      "step 3600 error value= 0.10635801879184166 W= [[2.06047713]\n",
      " [0.90616402]] b= [-23.89731735]\n",
      "step 4000 error value= 0.10563435935021002 W= [[2.06451151]\n",
      " [0.90905241]] b= [-23.95091603]\n",
      "step 4400 error value= 0.10492039708034871 W= [[2.06851935]\n",
      " [0.91192045]] b= [-24.00415422]\n",
      "step 4800 error value= 0.10421593953368755 W= [[2.07250098]\n",
      " [0.91476844]] b= [-24.0570367]\n",
      "step 5200 error value= 0.10352079929808307 W= [[2.07645675]\n",
      " [0.91759664]] b= [-24.10956816]\n",
      "step 5600 error value= 0.10283479383465129 W= [[2.08038699]\n",
      " [0.92040533]] b= [-24.16175316]\n",
      "step 6000 error value= 0.10215774532093516 W= [[2.08429202]\n",
      " [0.92319477]] b= [-24.21359622]\n",
      "step 6400 error value= 0.10148948050005066 W= [[2.08817215]\n",
      " [0.92596523]] b= [-24.26510175]\n",
      "step 6800 error value= 0.10082983053557015 W= [[2.09202771]\n",
      " [0.92871695]] b= [-24.31627406]\n",
      "step 7200 error value= 0.10017863087188544 W= [[2.09585899]\n",
      " [0.93145019]] b= [-24.36711742]\n",
      "step 7600 error value= 0.09953572109986264 W= [[2.0996663 ]\n",
      " [0.93416519]] b= [-24.41763599]\n",
      "step 8000 error value= 0.09890094482744076 W= [[2.10344993]\n",
      " [0.93686218]] b= [-24.46783385]\n",
      "step 8400 error value= 0.09827414955511893 W= [[2.10721018]\n",
      " [0.93954142]] b= [-24.51771501]\n",
      "step 8800 error value= 0.09765518655593376 W= [[2.11094732]\n",
      " [0.94220312]] b= [-24.56728341]\n",
      "step 9200 error value= 0.09704391075995641 W= [[2.11466163]\n",
      " [0.94484751]] b= [-24.61654292]\n",
      "step 9600 error value= 0.096440180642877 W= [[2.1183534 ]\n",
      " [0.94747482]] b= [-24.66549733]\n",
      "step 10000 error value= 0.09584385811873893 W= [[2.12202289]\n",
      " [0.95008526]] b= [-24.71415036]\n"
     ]
    }
   ],
   "source": [
    "learning_rate = 1e-2  # 발산하는 경우, 1e-3 ~ 1e-6 등으로 바꾸어서 실행\n",
    "\n",
    "f=lambda x: loss_func(x_data, y_data)\n",
    "\n",
    "print(\"Initial error value:\", error_val(x_data, y_data), \"Initail W=\",W,\"Initali b=\",b)\n",
    "\n",
    "for step in range(10001):\n",
    "    W-=learning_rate*numerical_derivative(f,W)\n",
    "    b-=learning_rate*numerical_derivative(f,b)\n",
    "    \n",
    "    if step%400==0:\n",
    "        print(\"step\",step,\"error value=\",error_val(x_data,y_data),\"W=\",W,\"b=\",b)"
   ]
  },
  {
   "cell_type": "code",
   "execution_count": 10,
   "id": "e8e24323-c4d1-4766-a49d-23846f3040c6",
   "metadata": {},
   "outputs": [],
   "source": [
    "# (real_val, logical_val) = predict(1)\n",
    "# print(real_val, logical_val)"
   ]
  },
  {
   "cell_type": "code",
   "execution_count": 20,
   "id": "0f4e68d7-64ab-4689-9637-057863002c85",
   "metadata": {},
   "outputs": [
    {
     "data": {
      "text/plain": [
       "(array([0.5211292]), 1)"
      ]
     },
     "execution_count": 20,
     "metadata": {},
     "output_type": "execute_result"
    }
   ],
   "source": [
    "test_data = np.array([9,6])\n",
    "predict(test_data)"
   ]
  },
  {
   "cell_type": "code",
   "execution_count": null,
   "id": "81f083dc-84d5-4593-99cb-958a0c376cf4",
   "metadata": {},
   "outputs": [],
   "source": []
  }
 ],
 "metadata": {
  "kernelspec": {
   "display_name": "Python 3",
   "language": "python",
   "name": "python3"
  },
  "language_info": {
   "codemirror_mode": {
    "name": "ipython",
    "version": 3
   },
   "file_extension": ".py",
   "mimetype": "text/x-python",
   "name": "python",
   "nbconvert_exporter": "python",
   "pygments_lexer": "ipython3",
   "version": "3.8.8"
  }
 },
 "nbformat": 4,
 "nbformat_minor": 5
}
