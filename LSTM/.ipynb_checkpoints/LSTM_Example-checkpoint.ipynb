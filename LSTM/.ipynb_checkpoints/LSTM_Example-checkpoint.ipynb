{
 "cells": [
  {
   "cell_type": "code",
   "execution_count": 1,
   "id": "f58f11c0-3e1e-4c68-b497-bc93b1b2ccda",
   "metadata": {},
   "outputs": [],
   "source": [
    "import tensorflow as tf\n",
    "import numpy as np\n",
    "import pandas as pd\n",
    "import matplotlib.pyplot as plt\n",
    "from tensorflow.keras.models import Sequential\n",
    "from tensorflow.keras.layers import SimpleRNN, LSTM, Dense"
   ]
  },
  {
   "cell_type": "code",
   "execution_count": 3,
   "id": "d76146dc-60bc-45a9-bdb4-42b2b45a29fe",
   "metadata": {},
   "outputs": [
    {
     "data": {
      "text/html": [
       "<div>\n",
       "<style scoped>\n",
       "    .dataframe tbody tr th:only-of-type {\n",
       "        vertical-align: middle;\n",
       "    }\n",
       "\n",
       "    .dataframe tbody tr th {\n",
       "        vertical-align: top;\n",
       "    }\n",
       "\n",
       "    .dataframe thead th {\n",
       "        text-align: right;\n",
       "    }\n",
       "</style>\n",
       "<table border=\"1\" class=\"dataframe\">\n",
       "  <thead>\n",
       "    <tr style=\"text-align: right;\">\n",
       "      <th></th>\n",
       "      <th>Date</th>\n",
       "      <th>Open</th>\n",
       "      <th>High</th>\n",
       "      <th>Low</th>\n",
       "      <th>Close</th>\n",
       "      <th>Adj Close</th>\n",
       "      <th>Volume</th>\n",
       "      <th>3MA</th>\n",
       "      <th>5MA</th>\n",
       "    </tr>\n",
       "  </thead>\n",
       "  <tbody>\n",
       "    <tr>\n",
       "      <th>0</th>\n",
       "      <td>2000-01-04</td>\n",
       "      <td>6000.0</td>\n",
       "      <td>6110.0</td>\n",
       "      <td>5660.0</td>\n",
       "      <td>6110.0</td>\n",
       "      <td>4740.119629</td>\n",
       "      <td>74195000.0</td>\n",
       "      <td>NaN</td>\n",
       "      <td>NaN</td>\n",
       "    </tr>\n",
       "    <tr>\n",
       "      <th>1</th>\n",
       "      <td>2000-01-05</td>\n",
       "      <td>5800.0</td>\n",
       "      <td>6060.0</td>\n",
       "      <td>5520.0</td>\n",
       "      <td>5580.0</td>\n",
       "      <td>4328.947754</td>\n",
       "      <td>74680000.0</td>\n",
       "      <td>NaN</td>\n",
       "      <td>NaN</td>\n",
       "    </tr>\n",
       "    <tr>\n",
       "      <th>2</th>\n",
       "      <td>2000-01-06</td>\n",
       "      <td>5750.0</td>\n",
       "      <td>5780.0</td>\n",
       "      <td>5580.0</td>\n",
       "      <td>5620.0</td>\n",
       "      <td>4359.979492</td>\n",
       "      <td>54390000.0</td>\n",
       "      <td>4476.348958</td>\n",
       "      <td>NaN</td>\n",
       "    </tr>\n",
       "    <tr>\n",
       "      <th>3</th>\n",
       "      <td>2000-01-07</td>\n",
       "      <td>5560.0</td>\n",
       "      <td>5670.0</td>\n",
       "      <td>5360.0</td>\n",
       "      <td>5540.0</td>\n",
       "      <td>4297.916992</td>\n",
       "      <td>40305000.0</td>\n",
       "      <td>4328.948079</td>\n",
       "      <td>NaN</td>\n",
       "    </tr>\n",
       "    <tr>\n",
       "      <th>4</th>\n",
       "      <td>2000-01-10</td>\n",
       "      <td>5600.0</td>\n",
       "      <td>5770.0</td>\n",
       "      <td>5580.0</td>\n",
       "      <td>5770.0</td>\n",
       "      <td>4476.349121</td>\n",
       "      <td>46880000.0</td>\n",
       "      <td>4378.081868</td>\n",
       "      <td>4440.662598</td>\n",
       "    </tr>\n",
       "  </tbody>\n",
       "</table>\n",
       "</div>"
      ],
      "text/plain": [
       "         Date    Open    High     Low   Close    Adj Close      Volume  \\\n",
       "0  2000-01-04  6000.0  6110.0  5660.0  6110.0  4740.119629  74195000.0   \n",
       "1  2000-01-05  5800.0  6060.0  5520.0  5580.0  4328.947754  74680000.0   \n",
       "2  2000-01-06  5750.0  5780.0  5580.0  5620.0  4359.979492  54390000.0   \n",
       "3  2000-01-07  5560.0  5670.0  5360.0  5540.0  4297.916992  40305000.0   \n",
       "4  2000-01-10  5600.0  5770.0  5580.0  5770.0  4476.349121  46880000.0   \n",
       "\n",
       "           3MA          5MA  \n",
       "0          NaN          NaN  \n",
       "1          NaN          NaN  \n",
       "2  4476.348958          NaN  \n",
       "3  4328.948079          NaN  \n",
       "4  4378.081868  4440.662598  "
      ]
     },
     "execution_count": 3,
     "metadata": {},
     "output_type": "execute_result"
    }
   ],
   "source": [
    "# 데이터 불러오기\n",
    "# yahoo finance에서 데이터 다운로드 후 3일(3MA), 5일(5MA) 가격이평선 추가\n",
    "raw_df = pd.read_csv('../data/005930.KS_3MA_5MA.csv')  # yahoo finance로부터 데이터 다운로드\n",
    "\n",
    "raw_df.head()"
   ]
  },
  {
   "cell_type": "code",
   "execution_count": 4,
   "id": "1818c91b-71ff-4c06-a0ea-74275083b419",
   "metadata": {},
   "outputs": [
    {
     "data": {
      "image/png": "[encoded data removed]",
      "text/plain": [
       "<Figure size 432x288 with 1 Axes>"
      ]
     },
     "metadata": {
      "needs_background": "light"
     },
     "output_type": "display_data"
    }
   ],
   "source": [
    "plt.title('SAMSUNG ELECTRONIC STOCK PRICE')\n",
    "plt.xlabel('price')\n",
    "plt.ylabel('period')\n",
    "\n",
    "plt.plot(raw_df['Adj Close'], label='Adj Close')\n",
    "\n",
    "plt.show()"
   ]
  },
  {
   "cell_type": "code",
   "execution_count": 5,
   "id": "c465f449-b8cf-4e57-bee2-38b90c04a169",
   "metadata": {},
   "outputs": [
    {
     "data": {
      "text/html": [
       "<div>\n",
       "<style scoped>\n",
       "    .dataframe tbody tr th:only-of-type {\n",
       "        vertical-align: middle;\n",
       "    }\n",
       "\n",
       "    .dataframe tbody tr th {\n",
       "        vertical-align: top;\n",
       "    }\n",
       "\n",
       "    .dataframe thead th {\n",
       "        text-align: right;\n",
       "    }\n",
       "</style>\n",
       "<table border=\"1\" class=\"dataframe\">\n",
       "  <thead>\n",
       "    <tr style=\"text-align: right;\">\n",
       "      <th></th>\n",
       "      <th>Open</th>\n",
       "      <th>High</th>\n",
       "      <th>Low</th>\n",
       "      <th>Close</th>\n",
       "      <th>Adj Close</th>\n",
       "      <th>Volume</th>\n",
       "      <th>3MA</th>\n",
       "      <th>5MA</th>\n",
       "    </tr>\n",
       "  </thead>\n",
       "  <tbody>\n",
       "    <tr>\n",
       "      <th>count</th>\n",
       "      <td>5389.000000</td>\n",
       "      <td>5389.000000</td>\n",
       "      <td>5389.000000</td>\n",
       "      <td>5389.000000</td>\n",
       "      <td>5389.000000</td>\n",
       "      <td>5.389000e+03</td>\n",
       "      <td>5393.000000</td>\n",
       "      <td>5391.000000</td>\n",
       "    </tr>\n",
       "    <tr>\n",
       "      <th>mean</th>\n",
       "      <td>22801.887178</td>\n",
       "      <td>23043.991464</td>\n",
       "      <td>22559.285582</td>\n",
       "      <td>22801.909445</td>\n",
       "      <td>19920.044863</td>\n",
       "      <td>2.207838e+07</td>\n",
       "      <td>19934.224878</td>\n",
       "      <td>19925.585966</td>\n",
       "    </tr>\n",
       "    <tr>\n",
       "      <th>std</th>\n",
       "      <td>17736.201238</td>\n",
       "      <td>17906.827402</td>\n",
       "      <td>17572.109940</td>\n",
       "      <td>17733.296811</td>\n",
       "      <td>17322.636387</td>\n",
       "      <td>1.564053e+07</td>\n",
       "      <td>17313.297249</td>\n",
       "      <td>17292.697383</td>\n",
       "    </tr>\n",
       "    <tr>\n",
       "      <th>min</th>\n",
       "      <td>2540.000000</td>\n",
       "      <td>2760.000000</td>\n",
       "      <td>2420.000000</td>\n",
       "      <td>2730.000000</td>\n",
       "      <td>2117.926025</td>\n",
       "      <td>0.000000e+00</td>\n",
       "      <td>2164.473877</td>\n",
       "      <td>2179.989746</td>\n",
       "    </tr>\n",
       "    <tr>\n",
       "      <th>25%</th>\n",
       "      <td>9880.000000</td>\n",
       "      <td>9990.000000</td>\n",
       "      <td>9800.000000</td>\n",
       "      <td>9900.000000</td>\n",
       "      <td>7726.937988</td>\n",
       "      <td>1.185265e+07</td>\n",
       "      <td>7726.939453</td>\n",
       "      <td>7709.871631</td>\n",
       "    </tr>\n",
       "    <tr>\n",
       "      <th>50%</th>\n",
       "      <td>15760.000000</td>\n",
       "      <td>15940.000000</td>\n",
       "      <td>15560.000000</td>\n",
       "      <td>15800.000000</td>\n",
       "      <td>12808.596680</td>\n",
       "      <td>1.803935e+07</td>\n",
       "      <td>12802.806970</td>\n",
       "      <td>12809.314840</td>\n",
       "    </tr>\n",
       "    <tr>\n",
       "      <th>75%</th>\n",
       "      <td>29280.000000</td>\n",
       "      <td>29560.000000</td>\n",
       "      <td>29000.000000</td>\n",
       "      <td>29280.000000</td>\n",
       "      <td>24566.556640</td>\n",
       "      <td>2.771475e+07</td>\n",
       "      <td>24558.166020</td>\n",
       "      <td>24555.269140</td>\n",
       "    </tr>\n",
       "    <tr>\n",
       "      <th>max</th>\n",
       "      <td>90300.000000</td>\n",
       "      <td>96800.000000</td>\n",
       "      <td>89500.000000</td>\n",
       "      <td>91000.000000</td>\n",
       "      <td>90597.414060</td>\n",
       "      <td>1.642150e+08</td>\n",
       "      <td>90033.252600</td>\n",
       "      <td>89562.014060</td>\n",
       "    </tr>\n",
       "  </tbody>\n",
       "</table>\n",
       "</div>"
      ],
      "text/plain": [
       "               Open          High           Low         Close     Adj Close  \\\n",
       "count   5389.000000   5389.000000   5389.000000   5389.000000   5389.000000   \n",
       "mean   22801.887178  23043.991464  22559.285582  22801.909445  19920.044863   \n",
       "std    17736.201238  17906.827402  17572.109940  17733.296811  17322.636387   \n",
       "min     2540.000000   2760.000000   2420.000000   2730.000000   2117.926025   \n",
       "25%     9880.000000   9990.000000   9800.000000   9900.000000   7726.937988   \n",
       "50%    15760.000000  15940.000000  15560.000000  15800.000000  12808.596680   \n",
       "75%    29280.000000  29560.000000  29000.000000  29280.000000  24566.556640   \n",
       "max    90300.000000  96800.000000  89500.000000  91000.000000  90597.414060   \n",
       "\n",
       "             Volume           3MA           5MA  \n",
       "count  5.389000e+03   5393.000000   5391.000000  \n",
       "mean   2.207838e+07  19934.224878  19925.585966  \n",
       "std    1.564053e+07  17313.297249  17292.697383  \n",
       "min    0.000000e+00   2164.473877   2179.989746  \n",
       "25%    1.185265e+07   7726.939453   7709.871631  \n",
       "50%    1.803935e+07  12802.806970  12809.314840  \n",
       "75%    2.771475e+07  24558.166020  24555.269140  \n",
       "max    1.642150e+08  90033.252600  89562.014060  "
      ]
     },
     "execution_count": 5,
     "metadata": {},
     "output_type": "execute_result"
    }
   ],
   "source": [
    "# 데이터 전처리 - 통계정보 확인\n",
    "\n",
    "raw_df.describe()"
   ]
  },
  {
   "cell_type": "code",
   "execution_count": 6,
   "id": "f8b8293e-72f8-4b44-b686-920329a9aa85",
   "metadata": {},
   "outputs": [
    {
     "data": {
      "text/plain": [
       "Date         0\n",
       "Open         6\n",
       "High         6\n",
       "Low          6\n",
       "Close        6\n",
       "Adj Close    6\n",
       "Volume       6\n",
       "3MA          2\n",
       "5MA          4\n",
       "dtype: int64"
      ]
     },
     "execution_count": 6,
     "metadata": {},
     "output_type": "execute_result"
    }
   ],
   "source": [
    "# 데이터 전처리 - Missing Data 확인\n",
    "\n",
    "raw_df.isnull().sum()"
   ]
  },
  {
   "cell_type": "code",
   "execution_count": 8,
   "id": "d642613a-ec2a-4394-b021-6c54b31e82ab",
   "metadata": {},
   "outputs": [
    {
     "name": "stdout",
     "output_type": "stream",
     "text": [
      "Volume <class 'str'>\n"
     ]
    }
   ],
   "source": [
    "# 최소값이 0인 column 체크\n",
    "\n",
    "for col in raw_df.columns:\n",
    "    if raw_df[col].min() == 0 :\n",
    "        col_name = col\n",
    "        print(col_name, type(col_name))"
   ]
  },
  {
   "cell_type": "code",
   "execution_count": 9,
   "id": "3b4e3eb2-da0d-4c1e-b5c2-c09582849530",
   "metadata": {},
   "outputs": [
    {
     "data": {
      "text/html": [
       "<div>\n",
       "<style scoped>\n",
       "    .dataframe tbody tr th:only-of-type {\n",
       "        vertical-align: middle;\n",
       "    }\n",
       "\n",
       "    .dataframe tbody tr th {\n",
       "        vertical-align: top;\n",
       "    }\n",
       "\n",
       "    .dataframe thead th {\n",
       "        text-align: right;\n",
       "    }\n",
       "</style>\n",
       "<table border=\"1\" class=\"dataframe\">\n",
       "  <thead>\n",
       "    <tr style=\"text-align: right;\">\n",
       "      <th></th>\n",
       "      <th>Date</th>\n",
       "      <th>Open</th>\n",
       "      <th>High</th>\n",
       "      <th>Low</th>\n",
       "      <th>Close</th>\n",
       "      <th>Adj Close</th>\n",
       "      <th>Volume</th>\n",
       "      <th>3MA</th>\n",
       "      <th>5MA</th>\n",
       "    </tr>\n",
       "  </thead>\n",
       "  <tbody>\n",
       "    <tr>\n",
       "      <th>23</th>\n",
       "      <td>2000-02-04</td>\n",
       "      <td>5130.0</td>\n",
       "      <td>5130.0</td>\n",
       "      <td>5130.0</td>\n",
       "      <td>5130.0</td>\n",
       "      <td>3979.839355</td>\n",
       "      <td>0.0</td>\n",
       "      <td>4010.871419</td>\n",
       "      <td>4097.760644</td>\n",
       "    </tr>\n",
       "    <tr>\n",
       "      <th>41</th>\n",
       "      <td>2000-03-01</td>\n",
       "      <td>5120.0</td>\n",
       "      <td>5120.0</td>\n",
       "      <td>5120.0</td>\n",
       "      <td>5120.0</td>\n",
       "      <td>3972.081543</td>\n",
       "      <td>0.0</td>\n",
       "      <td>3889.329834</td>\n",
       "      <td>3914.672510</td>\n",
       "    </tr>\n",
       "    <tr>\n",
       "      <th>66</th>\n",
       "      <td>2000-04-05</td>\n",
       "      <td>6800.0</td>\n",
       "      <td>6800.0</td>\n",
       "      <td>6800.0</td>\n",
       "      <td>6800.0</td>\n",
       "      <td>5275.420410</td>\n",
       "      <td>0.0</td>\n",
       "      <td>5353.000163</td>\n",
       "      <td>5345.242773</td>\n",
       "    </tr>\n",
       "    <tr>\n",
       "      <th>72</th>\n",
       "      <td>2000-04-13</td>\n",
       "      <td>6910.0</td>\n",
       "      <td>6910.0</td>\n",
       "      <td>6910.0</td>\n",
       "      <td>6910.0</td>\n",
       "      <td>5360.757324</td>\n",
       "      <td>0.0</td>\n",
       "      <td>5409.891439</td>\n",
       "      <td>5495.746680</td>\n",
       "    </tr>\n",
       "    <tr>\n",
       "      <th>84</th>\n",
       "      <td>2000-05-01</td>\n",
       "      <td>6000.0</td>\n",
       "      <td>6000.0</td>\n",
       "      <td>6000.0</td>\n",
       "      <td>6000.0</td>\n",
       "      <td>4654.781250</td>\n",
       "      <td>0.0</td>\n",
       "      <td>4499.622070</td>\n",
       "      <td>4443.765039</td>\n",
       "    </tr>\n",
       "    <tr>\n",
       "      <th>...</th>\n",
       "      <td>...</td>\n",
       "      <td>...</td>\n",
       "      <td>...</td>\n",
       "      <td>...</td>\n",
       "      <td>...</td>\n",
       "      <td>...</td>\n",
       "      <td>...</td>\n",
       "      <td>...</td>\n",
       "      <td>...</td>\n",
       "    </tr>\n",
       "    <tr>\n",
       "      <th>4623</th>\n",
       "      <td>2018-04-30</td>\n",
       "      <td>53000.0</td>\n",
       "      <td>53000.0</td>\n",
       "      <td>53000.0</td>\n",
       "      <td>53000.0</td>\n",
       "      <td>47819.117190</td>\n",
       "      <td>0.0</td>\n",
       "      <td>47560.473960</td>\n",
       "      <td>46736.421880</td>\n",
       "    </tr>\n",
       "    <tr>\n",
       "      <th>4624</th>\n",
       "      <td>2018-05-02</td>\n",
       "      <td>53000.0</td>\n",
       "      <td>53000.0</td>\n",
       "      <td>53000.0</td>\n",
       "      <td>53000.0</td>\n",
       "      <td>47819.117190</td>\n",
       "      <td>0.0</td>\n",
       "      <td>47819.117190</td>\n",
       "      <td>47194.763280</td>\n",
       "    </tr>\n",
       "    <tr>\n",
       "      <th>4625</th>\n",
       "      <td>2018-05-03</td>\n",
       "      <td>53000.0</td>\n",
       "      <td>53000.0</td>\n",
       "      <td>53000.0</td>\n",
       "      <td>53000.0</td>\n",
       "      <td>47819.117190</td>\n",
       "      <td>0.0</td>\n",
       "      <td>47819.117190</td>\n",
       "      <td>47663.931250</td>\n",
       "    </tr>\n",
       "    <tr>\n",
       "      <th>5077</th>\n",
       "      <td>2020-03-09</td>\n",
       "      <td>56500.0</td>\n",
       "      <td>56500.0</td>\n",
       "      <td>56500.0</td>\n",
       "      <td>56500.0</td>\n",
       "      <td>53774.468750</td>\n",
       "      <td>0.0</td>\n",
       "      <td>54186.897140</td>\n",
       "      <td>53983.855470</td>\n",
       "    </tr>\n",
       "    <tr>\n",
       "      <th>5080</th>\n",
       "      <td>2020-03-12</td>\n",
       "      <td>52100.0</td>\n",
       "      <td>52100.0</td>\n",
       "      <td>52100.0</td>\n",
       "      <td>52100.0</td>\n",
       "      <td>49586.722660</td>\n",
       "      <td>0.0</td>\n",
       "      <td>50379.856770</td>\n",
       "      <td>51737.701560</td>\n",
       "    </tr>\n",
       "  </tbody>\n",
       "</table>\n",
       "<p>116 rows × 9 columns</p>\n",
       "</div>"
      ],
      "text/plain": [
       "            Date     Open     High      Low    Close     Adj Close  Volume  \\\n",
       "23    2000-02-04   5130.0   5130.0   5130.0   5130.0   3979.839355     0.0   \n",
       "41    2000-03-01   5120.0   5120.0   5120.0   5120.0   3972.081543     0.0   \n",
       "66    2000-04-05   6800.0   6800.0   6800.0   6800.0   5275.420410     0.0   \n",
       "72    2000-04-13   6910.0   6910.0   6910.0   6910.0   5360.757324     0.0   \n",
       "84    2000-05-01   6000.0   6000.0   6000.0   6000.0   4654.781250     0.0   \n",
       "...          ...      ...      ...      ...      ...           ...     ...   \n",
       "4623  2018-04-30  53000.0  53000.0  53000.0  53000.0  47819.117190     0.0   \n",
       "4624  2018-05-02  53000.0  53000.0  53000.0  53000.0  47819.117190     0.0   \n",
       "4625  2018-05-03  53000.0  53000.0  53000.0  53000.0  47819.117190     0.0   \n",
       "5077  2020-03-09  56500.0  56500.0  56500.0  56500.0  53774.468750     0.0   \n",
       "5080  2020-03-12  52100.0  52100.0  52100.0  52100.0  49586.722660     0.0   \n",
       "\n",
       "               3MA           5MA  \n",
       "23     4010.871419   4097.760644  \n",
       "41     3889.329834   3914.672510  \n",
       "66     5353.000163   5345.242773  \n",
       "72     5409.891439   5495.746680  \n",
       "84     4499.622070   4443.765039  \n",
       "...            ...           ...  \n",
       "4623  47560.473960  46736.421880  \n",
       "4624  47819.117190  47194.763280  \n",
       "4625  47819.117190  47663.931250  \n",
       "5077  54186.897140  53983.855470  \n",
       "5080  50379.856770  51737.701560  \n",
       "\n",
       "[116 rows x 9 columns]"
      ]
     },
     "execution_count": 9,
     "metadata": {},
     "output_type": "execute_result"
    }
   ],
   "source": [
    "raw_df.loc[raw_df['Volume']==0]"
   ]
  },
  {
   "cell_type": "code",
   "execution_count": 11,
   "id": "d38b5c65-8f79-4ff1-952c-3b58a9fe187d",
   "metadata": {
    "collapsed": true,
    "jupyter": {
     "outputs_hidden": true
    },
    "tags": []
   },
   "outputs": [
    {
     "name": "stdout",
     "output_type": "stream",
     "text": [
      "Date:0\n",
      "Open:0\n",
      "High:0\n",
      "Low:0\n",
      "Close:0\n",
      "Adj Close:0\n",
      "Volume:116\n",
      "3MA:0\n",
      "5MA:0\n"
     ]
    }
   ],
   "source": [
    "# 각 column에 0 몇개인지 확인\n",
    "\n",
    "for col in raw_df.columns:\n",
    "    missing_rows = raw_df.loc[raw_df[col]==0].shape[0]\n",
    "    print(col+':'+str(missing_rows))"
   ]
  },
  {
   "cell_type": "code",
   "execution_count": 12,
   "id": "806cb80b-8043-4823-a2f5-3bda2ccfad1f",
   "metadata": {},
   "outputs": [],
   "source": [
    "# 먼저 0을 NaN으로 바꾼 후 , Missing Data 처리\n",
    "\n",
    "raw_df['Volume'] = raw_df['Volume'].replace(0, np.nan)"
   ]
  },
  {
   "cell_type": "code",
   "execution_count": 13,
   "id": "241b4db2-d250-4dba-8b3d-07964f884684",
   "metadata": {
    "collapsed": true,
    "jupyter": {
     "outputs_hidden": true
    },
    "tags": []
   },
   "outputs": [
    {
     "name": "stdout",
     "output_type": "stream",
     "text": [
      "Date:0\n",
      "Open:0\n",
      "High:0\n",
      "Low:0\n",
      "Close:0\n",
      "Adj Close:0\n",
      "Volume:0\n",
      "3MA:0\n",
      "5MA:0\n"
     ]
    }
   ],
   "source": [
    "# 각 column에 0 몇개인지 확인 \n",
    "\n",
    "for col in raw_df.columns:\n",
    "    missing_rows = raw_df.loc[raw_df[col]==0].shape[0]\n",
    "    print(col+':'+str(missing_rows))"
   ]
  },
  {
   "cell_type": "code",
   "execution_count": 14,
   "id": "be39048b-bf9b-4d82-9ed2-ef317a9f8ee0",
   "metadata": {
    "collapsed": true,
    "jupyter": {
     "outputs_hidden": true
    },
    "tags": []
   },
   "outputs": [
    {
     "data": {
      "text/plain": [
       "Date           0\n",
       "Open           6\n",
       "High           6\n",
       "Low            6\n",
       "Close          6\n",
       "Adj Close      6\n",
       "Volume       122\n",
       "3MA            2\n",
       "5MA            4\n",
       "dtype: int64"
      ]
     },
     "execution_count": 14,
     "metadata": {},
     "output_type": "execute_result"
    }
   ],
   "source": [
    "# Missing Data 확인\n",
    "\n",
    "raw_df.isnull().sum()"
   ]
  },
  {
   "cell_type": "code",
   "execution_count": 15,
   "id": "501983ae-e81f-415a-813b-aa4af0b15787",
   "metadata": {
    "collapsed": true,
    "jupyter": {
     "outputs_hidden": true
    },
    "tags": []
   },
   "outputs": [
    {
     "data": {
      "text/plain": [
       "Date         False\n",
       "Open          True\n",
       "High          True\n",
       "Low           True\n",
       "Close         True\n",
       "Adj Close     True\n",
       "Volume        True\n",
       "3MA           True\n",
       "5MA           True\n",
       "dtype: bool"
      ]
     },
     "execution_count": 15,
     "metadata": {},
     "output_type": "execute_result"
    }
   ],
   "source": [
    "raw_df.isnull().any()"
   ]
  },
  {
   "cell_type": "code",
   "execution_count": 16,
   "id": "d3fe7fc9-a8ab-4b2a-8a21-d684af56f0c0",
   "metadata": {},
   "outputs": [
    {
     "data": {
      "text/html": [
       "<div>\n",
       "<style scoped>\n",
       "    .dataframe tbody tr th:only-of-type {\n",
       "        vertical-align: middle;\n",
       "    }\n",
       "\n",
       "    .dataframe tbody tr th {\n",
       "        vertical-align: top;\n",
       "    }\n",
       "\n",
       "    .dataframe thead th {\n",
       "        text-align: right;\n",
       "    }\n",
       "</style>\n",
       "<table border=\"1\" class=\"dataframe\">\n",
       "  <thead>\n",
       "    <tr style=\"text-align: right;\">\n",
       "      <th></th>\n",
       "      <th>Date</th>\n",
       "      <th>Open</th>\n",
       "      <th>High</th>\n",
       "      <th>Low</th>\n",
       "      <th>Close</th>\n",
       "      <th>Adj Close</th>\n",
       "      <th>Volume</th>\n",
       "      <th>3MA</th>\n",
       "      <th>5MA</th>\n",
       "    </tr>\n",
       "  </thead>\n",
       "  <tbody>\n",
       "    <tr>\n",
       "      <th>1304</th>\n",
       "      <td>2005-01-03</td>\n",
       "      <td>NaN</td>\n",
       "      <td>NaN</td>\n",
       "      <td>NaN</td>\n",
       "      <td>NaN</td>\n",
       "      <td>NaN</td>\n",
       "      <td>NaN</td>\n",
       "      <td>6989.931152</td>\n",
       "      <td>6910.412353</td>\n",
       "    </tr>\n",
       "    <tr>\n",
       "      <th>4513</th>\n",
       "      <td>2017-11-16</td>\n",
       "      <td>NaN</td>\n",
       "      <td>NaN</td>\n",
       "      <td>NaN</td>\n",
       "      <td>NaN</td>\n",
       "      <td>NaN</td>\n",
       "      <td>NaN</td>\n",
       "      <td>49382.673830</td>\n",
       "      <td>49719.997070</td>\n",
       "    </tr>\n",
       "    <tr>\n",
       "      <th>4518</th>\n",
       "      <td>2017-11-23</td>\n",
       "      <td>NaN</td>\n",
       "      <td>NaN</td>\n",
       "      <td>NaN</td>\n",
       "      <td>NaN</td>\n",
       "      <td>NaN</td>\n",
       "      <td>NaN</td>\n",
       "      <td>49373.792970</td>\n",
       "      <td>49324.969730</td>\n",
       "    </tr>\n",
       "    <tr>\n",
       "      <th>4542</th>\n",
       "      <td>2018-01-02</td>\n",
       "      <td>NaN</td>\n",
       "      <td>NaN</td>\n",
       "      <td>NaN</td>\n",
       "      <td>NaN</td>\n",
       "      <td>NaN</td>\n",
       "      <td>NaN</td>\n",
       "      <td>44927.763670</td>\n",
       "      <td>44190.302730</td>\n",
       "    </tr>\n",
       "    <tr>\n",
       "      <th>4755</th>\n",
       "      <td>2018-11-15</td>\n",
       "      <td>NaN</td>\n",
       "      <td>NaN</td>\n",
       "      <td>NaN</td>\n",
       "      <td>NaN</td>\n",
       "      <td>NaN</td>\n",
       "      <td>NaN</td>\n",
       "      <td>40569.835940</td>\n",
       "      <td>40775.886720</td>\n",
       "    </tr>\n",
       "    <tr>\n",
       "      <th>5000</th>\n",
       "      <td>2019-11-14</td>\n",
       "      <td>NaN</td>\n",
       "      <td>NaN</td>\n",
       "      <td>NaN</td>\n",
       "      <td>NaN</td>\n",
       "      <td>NaN</td>\n",
       "      <td>NaN</td>\n",
       "      <td>49695.419920</td>\n",
       "      <td>49364.432620</td>\n",
       "    </tr>\n",
       "  </tbody>\n",
       "</table>\n",
       "</div>"
      ],
      "text/plain": [
       "            Date  Open  High  Low  Close  Adj Close  Volume           3MA  \\\n",
       "1304  2005-01-03   NaN   NaN  NaN    NaN        NaN     NaN   6989.931152   \n",
       "4513  2017-11-16   NaN   NaN  NaN    NaN        NaN     NaN  49382.673830   \n",
       "4518  2017-11-23   NaN   NaN  NaN    NaN        NaN     NaN  49373.792970   \n",
       "4542  2018-01-02   NaN   NaN  NaN    NaN        NaN     NaN  44927.763670   \n",
       "4755  2018-11-15   NaN   NaN  NaN    NaN        NaN     NaN  40569.835940   \n",
       "5000  2019-11-14   NaN   NaN  NaN    NaN        NaN     NaN  49695.419920   \n",
       "\n",
       "               5MA  \n",
       "1304   6910.412353  \n",
       "4513  49719.997070  \n",
       "4518  49324.969730  \n",
       "4542  44190.302730  \n",
       "4755  40775.886720  \n",
       "5000  49364.432620  "
      ]
     },
     "execution_count": 16,
     "metadata": {},
     "output_type": "execute_result"
    }
   ],
   "source": [
    "raw_df.loc[raw_df['Open'].isna()]"
   ]
  },
  {
   "cell_type": "code",
   "execution_count": 18,
   "id": "cb7076f1-05b3-41b8-bfa0-7ad5d0f6c508",
   "metadata": {},
   "outputs": [
    {
     "data": {
      "text/plain": [
       "Date         0\n",
       "Open         0\n",
       "High         0\n",
       "Low          0\n",
       "Close        0\n",
       "Adj Close    0\n",
       "Volume       0\n",
       "3MA          0\n",
       "5MA          0\n",
       "dtype: int64"
      ]
     },
     "execution_count": 18,
     "metadata": {},
     "output_type": "execute_result"
    }
   ],
   "source": [
    "# missing data 처리\n",
    "# 필요없는 데이터 제거\n",
    "\n",
    "raw_df = raw_df.dropna()\n",
    "raw_df.isnull().sum()"
   ]
  },
  {
   "cell_type": "code",
   "execution_count": 19,
   "id": "f8285b15-0bda-4bf9-a065-7cb5e234766d",
   "metadata": {},
   "outputs": [
    {
     "data": {
      "text/html": [
       "<div>\n",
       "<style scoped>\n",
       "    .dataframe tbody tr th:only-of-type {\n",
       "        vertical-align: middle;\n",
       "    }\n",
       "\n",
       "    .dataframe tbody tr th {\n",
       "        vertical-align: top;\n",
       "    }\n",
       "\n",
       "    .dataframe thead th {\n",
       "        text-align: right;\n",
       "    }\n",
       "</style>\n",
       "<table border=\"1\" class=\"dataframe\">\n",
       "  <thead>\n",
       "    <tr style=\"text-align: right;\">\n",
       "      <th></th>\n",
       "      <th>Date</th>\n",
       "      <th>Open</th>\n",
       "      <th>High</th>\n",
       "      <th>Low</th>\n",
       "      <th>Close</th>\n",
       "      <th>Adj Close</th>\n",
       "      <th>Volume</th>\n",
       "      <th>3MA</th>\n",
       "      <th>5MA</th>\n",
       "    </tr>\n",
       "  </thead>\n",
       "  <tbody>\n",
       "    <tr>\n",
       "      <th>4</th>\n",
       "      <td>2000-01-10</td>\n",
       "      <td>5600.0</td>\n",
       "      <td>5770.0</td>\n",
       "      <td>5580.0</td>\n",
       "      <td>5770.0</td>\n",
       "      <td>4476.349121</td>\n",
       "      <td>46880000.0</td>\n",
       "      <td>4378.081868</td>\n",
       "      <td>4440.662598</td>\n",
       "    </tr>\n",
       "    <tr>\n",
       "      <th>5</th>\n",
       "      <td>2000-01-11</td>\n",
       "      <td>5820.0</td>\n",
       "      <td>6100.0</td>\n",
       "      <td>5770.0</td>\n",
       "      <td>5770.0</td>\n",
       "      <td>4476.349121</td>\n",
       "      <td>59745000.0</td>\n",
       "      <td>4416.871745</td>\n",
       "      <td>4387.908496</td>\n",
       "    </tr>\n",
       "    <tr>\n",
       "      <th>6</th>\n",
       "      <td>2000-01-12</td>\n",
       "      <td>5610.0</td>\n",
       "      <td>5740.0</td>\n",
       "      <td>5600.0</td>\n",
       "      <td>5720.0</td>\n",
       "      <td>4437.559082</td>\n",
       "      <td>29220000.0</td>\n",
       "      <td>4463.419108</td>\n",
       "      <td>4409.630762</td>\n",
       "    </tr>\n",
       "    <tr>\n",
       "      <th>7</th>\n",
       "      <td>2000-01-13</td>\n",
       "      <td>5600.0</td>\n",
       "      <td>5740.0</td>\n",
       "      <td>5560.0</td>\n",
       "      <td>5710.0</td>\n",
       "      <td>4429.801270</td>\n",
       "      <td>41190000.0</td>\n",
       "      <td>4447.903158</td>\n",
       "      <td>4423.595117</td>\n",
       "    </tr>\n",
       "    <tr>\n",
       "      <th>8</th>\n",
       "      <td>2000-01-14</td>\n",
       "      <td>5720.0</td>\n",
       "      <td>5880.0</td>\n",
       "      <td>5680.0</td>\n",
       "      <td>5830.0</td>\n",
       "      <td>4522.897461</td>\n",
       "      <td>49375000.0</td>\n",
       "      <td>4463.419271</td>\n",
       "      <td>4468.591211</td>\n",
       "    </tr>\n",
       "  </tbody>\n",
       "</table>\n",
       "</div>"
      ],
      "text/plain": [
       "         Date    Open    High     Low   Close    Adj Close      Volume  \\\n",
       "4  2000-01-10  5600.0  5770.0  5580.0  5770.0  4476.349121  46880000.0   \n",
       "5  2000-01-11  5820.0  6100.0  5770.0  5770.0  4476.349121  59745000.0   \n",
       "6  2000-01-12  5610.0  5740.0  5600.0  5720.0  4437.559082  29220000.0   \n",
       "7  2000-01-13  5600.0  5740.0  5560.0  5710.0  4429.801270  41190000.0   \n",
       "8  2000-01-14  5720.0  5880.0  5680.0  5830.0  4522.897461  49375000.0   \n",
       "\n",
       "           3MA          5MA  \n",
       "4  4378.081868  4440.662598  \n",
       "5  4416.871745  4387.908496  \n",
       "6  4463.419108  4409.630762  \n",
       "7  4447.903158  4423.595117  \n",
       "8  4463.419271  4468.591211  "
      ]
     },
     "execution_count": 19,
     "metadata": {},
     "output_type": "execute_result"
    }
   ],
   "source": [
    "raw_df.head()"
   ]
  },
  {
   "cell_type": "code",
   "execution_count": 22,
   "id": "b558137c-e650-4200-83b7-e62ac6f0c2a9",
   "metadata": {},
   "outputs": [
    {
     "name": "stdout",
     "output_type": "stream",
     "text": [
      "          Open      High       Low     Close  Adj Close       3MA       5MA  \\\n",
      "0     0.034868  0.032008  0.036288  0.034440   0.026655  0.025192  0.025698   \n",
      "1     0.037375  0.035517  0.038470  0.034440   0.026655  0.025634  0.025094   \n",
      "2     0.034982  0.031689  0.036518  0.033873   0.026217  0.026163  0.025343   \n",
      "3     0.034868  0.031689  0.036059  0.033760   0.026129  0.025987  0.025503   \n",
      "4     0.036235  0.033177  0.037437  0.035120   0.027181  0.026163  0.026018   \n",
      "...        ...       ...       ...       ...        ...       ...       ...   \n",
      "5264  0.891750  0.830923  0.896647  0.881047   0.885878  0.895299  0.903144   \n",
      "5265  0.892890  0.834113  0.897795  0.885578   0.890399  0.894920  0.900854   \n",
      "5266  0.899727  0.841557  0.903537  0.895774   0.900571  0.897955  0.902457   \n",
      "5267  0.895169  0.835177  0.898944  0.885578   0.890399  0.899472  0.902228   \n",
      "5268  0.895169  0.833050  0.896647  0.881047   0.885878  0.897955  0.901083   \n",
      "\n",
      "        Volume  \n",
      "0     0.285359  \n",
      "1     0.363715  \n",
      "2     0.177799  \n",
      "3     0.250704  \n",
      "4     0.300555  \n",
      "...        ...  \n",
      "5264  0.064088  \n",
      "5265  0.061199  \n",
      "5266  0.091190  \n",
      "5267  0.085145  \n",
      "5268  0.090683  \n",
      "\n",
      "[5269 rows x 8 columns]\n"
     ]
    }
   ],
   "source": [
    "# 정규화 (Data 제외한 모든 수치부분 정규화)\n",
    "\n",
    "from sklearn.preprocessing import MinMaxScaler\n",
    "\n",
    "scaler = MinMaxScaler()\n",
    "scale_cols = ['Open','High','Low','Close','Adj Close', '3MA' ,'5MA', 'Volume']\n",
    "scaled_df = scaler.fit_transform(raw_df[scale_cols])\n",
    "scaled_df = pd.DataFrame(scaled_df ,columns=scale_cols)\n",
    "\n",
    "print(scaled_df)"
   ]
  },
  {
   "cell_type": "code",
   "execution_count": null,
   "id": "8e8fb472-19cd-4176-80a8-4571c97e7452",
   "metadata": {},
   "outputs": [],
   "source": [
    "주가예측을 위해 3MA,5MA,Adj Close항목을 feature선정\n",
    "- 정답은 Adj Close선정\n",
    "- 시계열 데이터를 위한 window_size = 40 선정"
   ]
  },
  {
   "cell_type": "code",
   "execution_count": 23,
   "id": "34d75ff8-ce10-4503-b2df-7c5302b57bb2",
   "metadata": {},
   "outputs": [],
   "source": [
    "# 데이터 전처리 – feature colume /label column 정의\n",
    "\n",
    "# 입력 파라미터 feature, label => numpy type\n",
    "\n",
    "def make_sequene_dataset(feature, label, window_size):\n",
    "    feature_list=[]  # 생성될 feature lsit\n",
    "    label_list=[]    # 생성될 label list\n",
    "    \n",
    "    for i in range(len(feature)-window_size):\n",
    "        feature_list.append(feature[i:i+window_size])\n",
    "        label_list.append(label[i+window_size])\n",
    "        \n",
    "    return np.array(feature_list), np.array(label_list)"
   ]
  },
  {
   "cell_type": "code",
   "execution_count": 24,
   "id": "8319b136-886a-4b47-8d14-9d58c86f89f8",
   "metadata": {},
   "outputs": [],
   "source": [
    "# feature_df, label_df 생성\n",
    "feature_cols = ['3MA', '5MA', 'Adj Close']\n",
    "label_cols = ['Adj Close']\n",
    "\n",
    "feature_df = pd.DataFrame(scaled_df, columns=feature_cols)\n",
    "label_df = pd.DataFrame(scaled_df, columns=label_cols)"
   ]
  },
  {
   "cell_type": "code",
   "execution_count": 31,
   "id": "98849f37-0fa3-4757-818e-0f89a85a8a64",
   "metadata": {
    "collapsed": true,
    "jupyter": {
     "outputs_hidden": true
    },
    "tags": []
   },
   "outputs": [
    {
     "data": {
      "text/html": [
       "<div>\n",
       "<style scoped>\n",
       "    .dataframe tbody tr th:only-of-type {\n",
       "        vertical-align: middle;\n",
       "    }\n",
       "\n",
       "    .dataframe tbody tr th {\n",
       "        vertical-align: top;\n",
       "    }\n",
       "\n",
       "    .dataframe thead th {\n",
       "        text-align: right;\n",
       "    }\n",
       "</style>\n",
       "<table border=\"1\" class=\"dataframe\">\n",
       "  <thead>\n",
       "    <tr style=\"text-align: right;\">\n",
       "      <th></th>\n",
       "      <th>3MA</th>\n",
       "      <th>5MA</th>\n",
       "      <th>Adj Close</th>\n",
       "    </tr>\n",
       "  </thead>\n",
       "  <tbody>\n",
       "    <tr>\n",
       "      <th>0</th>\n",
       "      <td>0.025192</td>\n",
       "      <td>0.025698</td>\n",
       "      <td>0.026655</td>\n",
       "    </tr>\n",
       "    <tr>\n",
       "      <th>1</th>\n",
       "      <td>0.025634</td>\n",
       "      <td>0.025094</td>\n",
       "      <td>0.026655</td>\n",
       "    </tr>\n",
       "    <tr>\n",
       "      <th>2</th>\n",
       "      <td>0.026163</td>\n",
       "      <td>0.025343</td>\n",
       "      <td>0.026217</td>\n",
       "    </tr>\n",
       "    <tr>\n",
       "      <th>3</th>\n",
       "      <td>0.025987</td>\n",
       "      <td>0.025503</td>\n",
       "      <td>0.026129</td>\n",
       "    </tr>\n",
       "    <tr>\n",
       "      <th>4</th>\n",
       "      <td>0.026163</td>\n",
       "      <td>0.026018</td>\n",
       "      <td>0.027181</td>\n",
       "    </tr>\n",
       "  </tbody>\n",
       "</table>\n",
       "</div>"
      ],
      "text/plain": [
       "        3MA       5MA  Adj Close\n",
       "0  0.025192  0.025698   0.026655\n",
       "1  0.025634  0.025094   0.026655\n",
       "2  0.026163  0.025343   0.026217\n",
       "3  0.025987  0.025503   0.026129\n",
       "4  0.026163  0.026018   0.027181"
      ]
     },
     "execution_count": 31,
     "metadata": {},
     "output_type": "execute_result"
    }
   ],
   "source": [
    "feature_df.head()"
   ]
  },
  {
   "cell_type": "code",
   "execution_count": 25,
   "id": "ad3f891e-f83d-4122-94a3-3edcd1b641ea",
   "metadata": {
    "collapsed": true,
    "jupyter": {
     "outputs_hidden": true
    },
    "tags": []
   },
   "outputs": [
    {
     "data": {
      "text/html": [
       "<div>\n",
       "<style scoped>\n",
       "    .dataframe tbody tr th:only-of-type {\n",
       "        vertical-align: middle;\n",
       "    }\n",
       "\n",
       "    .dataframe tbody tr th {\n",
       "        vertical-align: top;\n",
       "    }\n",
       "\n",
       "    .dataframe thead th {\n",
       "        text-align: right;\n",
       "    }\n",
       "</style>\n",
       "<table border=\"1\" class=\"dataframe\">\n",
       "  <thead>\n",
       "    <tr style=\"text-align: right;\">\n",
       "      <th></th>\n",
       "      <th>Adj Close</th>\n",
       "    </tr>\n",
       "  </thead>\n",
       "  <tbody>\n",
       "    <tr>\n",
       "      <th>0</th>\n",
       "      <td>0.026655</td>\n",
       "    </tr>\n",
       "    <tr>\n",
       "      <th>1</th>\n",
       "      <td>0.026655</td>\n",
       "    </tr>\n",
       "    <tr>\n",
       "      <th>2</th>\n",
       "      <td>0.026217</td>\n",
       "    </tr>\n",
       "    <tr>\n",
       "      <th>3</th>\n",
       "      <td>0.026129</td>\n",
       "    </tr>\n",
       "    <tr>\n",
       "      <th>4</th>\n",
       "      <td>0.027181</td>\n",
       "    </tr>\n",
       "  </tbody>\n",
       "</table>\n",
       "</div>"
      ],
      "text/plain": [
       "   Adj Close\n",
       "0   0.026655\n",
       "1   0.026655\n",
       "2   0.026217\n",
       "3   0.026129\n",
       "4   0.027181"
      ]
     },
     "execution_count": 25,
     "metadata": {},
     "output_type": "execute_result"
    }
   ],
   "source": [
    "label_df.head()"
   ]
  },
  {
   "cell_type": "code",
   "execution_count": 26,
   "id": "14573e82-8c60-46ac-88eb-d824a6e6eb89",
   "metadata": {},
   "outputs": [
    {
     "name": "stdout",
     "output_type": "stream",
     "text": [
      "(5269, 3) (5269, 1)\n"
     ]
    }
   ],
   "source": [
    "# DataFrame => Numpy 변환\n",
    "\n",
    "feature_np = feature_df.to_numpy()\n",
    "label_np = label_df.to_numpy()\n",
    "\n",
    "print(feature_np.shape, label_df.shape)"
   ]
  },
  {
   "cell_type": "code",
   "execution_count": 27,
   "id": "6dce5ab9-ab52-4503-9e87-2d14f641db42",
   "metadata": {
    "collapsed": true,
    "jupyter": {
     "outputs_hidden": true
    },
    "tags": []
   },
   "outputs": [
    {
     "name": "stdout",
     "output_type": "stream",
     "text": [
      "[[0.02665503]\n",
      " [0.02665503]\n",
      " [0.02621662]\n",
      " [0.02612894]\n",
      " [0.02718112]\n",
      " [0.0295485 ]\n",
      " [0.0295485 ]\n",
      " [0.02832097]\n",
      " [0.02902244]\n",
      " [0.02761953]]\n"
     ]
    }
   ],
   "source": [
    "print(label_np[:10])"
   ]
  },
  {
   "cell_type": "code",
   "execution_count": 29,
   "id": "faf12877-364e-46b4-a205-8d18970ce2fa",
   "metadata": {},
   "outputs": [
    {
     "name": "stdout",
     "output_type": "stream",
     "text": [
      "(5229, 40, 3) (5229, 1)\n"
     ]
    }
   ],
   "source": [
    "# [1] 학습 데이터 X, Y 생성\n",
    "\n",
    "# 데이터 생성 – 입력 데이터 feature / 정답 데이터 label\n",
    "\n",
    "window_size = 40\n",
    "\n",
    "X,Y=make_sequene_dataset(feature_np,label_np,window_size)\n",
    "\n",
    "print(X.shape, Y.shape)"
   ]
  },
  {
   "cell_type": "code",
   "execution_count": 36,
   "id": "0f0d8c94-2439-45d9-a9f9-b37cf67df76f",
   "metadata": {},
   "outputs": [
    {
     "name": "stdout",
     "output_type": "stream",
     "text": [
      "(4967, 40, 3) (4967, 1)\n",
      "(262, 40, 3) (262, 1)\n"
     ]
    }
   ],
   "source": [
    "# [2] 트레이닝 데이터/테스트 데이터 분리\n",
    "\n",
    "split = int(len(X)*0.95)\n",
    "#split=-200\n",
    "\n",
    "x_train = X[0:split]\n",
    "y_train = Y[0:split]\n",
    "\n",
    "x_test = X[split:]\n",
    "y_test = Y[split:]\n",
    "\n",
    "print(x_train.shape, y_train.shape)\n",
    "print(x_test.shape, y_test.shape)"
   ]
  },
  {
   "cell_type": "code",
   "execution_count": 37,
   "id": "71225df9-469a-45e0-a055-c8fe4cb527f8",
   "metadata": {},
   "outputs": [
    {
     "name": "stdout",
     "output_type": "stream",
     "text": [
      "Model: \"sequential_2\"\n",
      "_________________________________________________________________\n",
      " Layer (type)                Output Shape              Param #   \n",
      "=================================================================\n",
      " lstm_1 (LSTM)               (None, 128)               67584     \n",
      "                                                                 \n",
      " dense_1 (Dense)             (None, 1)                 129       \n",
      "                                                                 \n",
      "=================================================================\n",
      "Total params: 67,713\n",
      "Trainable params: 67,713\n",
      "Non-trainable params: 0\n",
      "_________________________________________________________________\n"
     ]
    }
   ],
   "source": [
    "# [3] LTSM 모델 구축\n",
    "\n",
    "model = Sequential()\n",
    "\n",
    "# LSTM 계층에 tanh를 활성화 함수로 가지는 노드 수 : 128개\n",
    "model.add(LSTM(128,\n",
    "              activation='tanh',\n",
    "              input_shape=x_train[0].shape))\n",
    "\n",
    "model.add(Dense(1, activation='linear'))\n",
    "\n",
    "model.summary()"
   ]
  },
  {
   "cell_type": "code",
   "execution_count": 38,
   "id": "3dcb16c5-a16b-444c-9792-8947b5f89277",
   "metadata": {},
   "outputs": [
    {
     "name": "stdout",
     "output_type": "stream",
     "text": [
      "Model: \"sequential_2\"\n",
      "_________________________________________________________________\n",
      " Layer (type)                Output Shape              Param #   \n",
      "=================================================================\n",
      " lstm_1 (LSTM)               (None, 128)               67584     \n",
      "                                                                 \n",
      " dense_1 (Dense)             (None, 1)                 129       \n",
      "                                                                 \n",
      "=================================================================\n",
      "Total params: 67,713\n",
      "Trainable params: 67,713\n",
      "Non-trainable params: 0\n",
      "_________________________________________________________________\n"
     ]
    }
   ],
   "source": [
    "# [4] 모델 구축 및 컴파일\n",
    "\n",
    "model.compile(loss='mse', optimizer='adam', metrics=['mae'])\n",
    "\n",
    "model.summary()"
   ]
  },
  {
   "cell_type": "code",
   "execution_count": 39,
   "id": "18091e16-e619-4944-a31e-0e62c5e898be",
   "metadata": {},
   "outputs": [
    {
     "name": "stdout",
     "output_type": "stream",
     "text": [
      "Epoch 1/100\n",
      "311/311 [==============================] - 10s 21ms/step - loss: 5.9444e-04 - mae: 0.0100 - val_loss: 7.2289e-04 - val_mae: 0.0179\n",
      "Epoch 2/100\n",
      "311/311 [==============================] - 6s 19ms/step - loss: 8.1476e-05 - mae: 0.0060 - val_loss: 9.2963e-04 - val_mae: 0.0224\n",
      "Epoch 3/100\n",
      "311/311 [==============================] - 4s 14ms/step - loss: 7.0614e-05 - mae: 0.0056 - val_loss: 6.2179e-04 - val_mae: 0.0171\n",
      "Epoch 4/100\n",
      "311/311 [==============================] - 4s 14ms/step - loss: 7.2686e-05 - mae: 0.0057 - val_loss: 7.7549e-04 - val_mae: 0.0210\n",
      "Epoch 5/100\n",
      "311/311 [==============================] - 5s 15ms/step - loss: 6.7671e-05 - mae: 0.0055 - val_loss: 3.9879e-04 - val_mae: 0.0139\n",
      "Epoch 6/100\n",
      "311/311 [==============================] - 5s 17ms/step - loss: 5.4967e-05 - mae: 0.0050 - val_loss: 3.4207e-04 - val_mae: 0.0135\n",
      "Epoch 7/100\n",
      "311/311 [==============================] - 5s 15ms/step - loss: 5.3229e-05 - mae: 0.0049 - val_loss: 3.9737e-04 - val_mae: 0.0143\n",
      "Epoch 8/100\n",
      "311/311 [==============================] - 5s 15ms/step - loss: 5.4508e-05 - mae: 0.0049 - val_loss: 3.0041e-04 - val_mae: 0.0122\n",
      "Epoch 9/100\n",
      "311/311 [==============================] - 5s 15ms/step - loss: 4.7721e-05 - mae: 0.0047 - val_loss: 3.0059e-04 - val_mae: 0.0122\n",
      "Epoch 10/100\n",
      "311/311 [==============================] - 5s 15ms/step - loss: 4.3870e-05 - mae: 0.0045 - val_loss: 3.3556e-04 - val_mae: 0.0133\n",
      "Epoch 11/100\n",
      "311/311 [==============================] - 5s 15ms/step - loss: 3.8566e-05 - mae: 0.0042 - val_loss: 4.0694e-04 - val_mae: 0.0153\n",
      "Epoch 12/100\n",
      "311/311 [==============================] - 5s 16ms/step - loss: 4.0767e-05 - mae: 0.0044 - val_loss: 2.6552e-04 - val_mae: 0.0115\n",
      "Epoch 13/100\n",
      "311/311 [==============================] - 5s 15ms/step - loss: 3.4427e-05 - mae: 0.0040 - val_loss: 2.4849e-04 - val_mae: 0.0111\n",
      "Epoch 14/100\n",
      "311/311 [==============================] - 5s 15ms/step - loss: 3.2512e-05 - mae: 0.0039 - val_loss: 3.9207e-04 - val_mae: 0.0168\n",
      "Epoch 15/100\n",
      "311/311 [==============================] - 5s 15ms/step - loss: 3.0631e-05 - mae: 0.0038 - val_loss: 1.9128e-04 - val_mae: 0.0097\n",
      "Epoch 16/100\n",
      "311/311 [==============================] - 5s 15ms/step - loss: 3.0323e-05 - mae: 0.0037 - val_loss: 2.3557e-04 - val_mae: 0.0111\n",
      "Epoch 17/100\n",
      "311/311 [==============================] - 5s 15ms/step - loss: 2.7234e-05 - mae: 0.0035 - val_loss: 4.8746e-04 - val_mae: 0.0180\n",
      "Epoch 18/100\n",
      "311/311 [==============================] - 5s 16ms/step - loss: 2.7744e-05 - mae: 0.0036 - val_loss: 4.7055e-04 - val_mae: 0.0175\n",
      "Epoch 19/100\n",
      "311/311 [==============================] - 5s 15ms/step - loss: 2.6989e-05 - mae: 0.0035 - val_loss: 2.0035e-04 - val_mae: 0.0100\n",
      "Epoch 20/100\n",
      "311/311 [==============================] - 5s 15ms/step - loss: 2.8768e-05 - mae: 0.0037 - val_loss: 1.8626e-04 - val_mae: 0.0105\n",
      "Epoch 21/100\n",
      "311/311 [==============================] - 5s 15ms/step - loss: 2.7803e-05 - mae: 0.0036 - val_loss: 1.9872e-04 - val_mae: 0.0101\n",
      "Epoch 22/100\n",
      "311/311 [==============================] - 5s 15ms/step - loss: 2.3995e-05 - mae: 0.0033 - val_loss: 2.3289e-04 - val_mae: 0.0112\n",
      "Epoch 23/100\n",
      "311/311 [==============================] - 5s 15ms/step - loss: 2.6004e-05 - mae: 0.0034 - val_loss: 1.7604e-04 - val_mae: 0.0095\n",
      "Epoch 24/100\n",
      "311/311 [==============================] - 5s 15ms/step - loss: 2.4695e-05 - mae: 0.0034 - val_loss: 1.8640e-04 - val_mae: 0.0098\n",
      "Epoch 25/100\n",
      "311/311 [==============================] - 5s 16ms/step - loss: 2.5326e-05 - mae: 0.0034 - val_loss: 1.6979e-04 - val_mae: 0.0096\n",
      "Epoch 26/100\n",
      "311/311 [==============================] - 5s 15ms/step - loss: 2.4148e-05 - mae: 0.0033 - val_loss: 3.5922e-04 - val_mae: 0.0148\n",
      "Epoch 27/100\n",
      "311/311 [==============================] - 5s 16ms/step - loss: 2.3128e-05 - mae: 0.0032 - val_loss: 1.9365e-04 - val_mae: 0.0101\n",
      "Epoch 28/100\n",
      "311/311 [==============================] - 5s 15ms/step - loss: 2.6939e-05 - mae: 0.0036 - val_loss: 3.1744e-04 - val_mae: 0.0137\n",
      "Epoch 29/100\n",
      "311/311 [==============================] - 5s 16ms/step - loss: 2.4900e-05 - mae: 0.0034 - val_loss: 1.8386e-04 - val_mae: 0.0098\n",
      "Epoch 30/100\n",
      "311/311 [==============================] - 5s 16ms/step - loss: 2.4716e-05 - mae: 0.0034 - val_loss: 1.7200e-04 - val_mae: 0.0096\n"
     ]
    },
    {
     "data": {
      "text/plain": [
       "<keras.callbacks.History at 0x1dfae416d30>"
      ]
     },
     "execution_count": 39,
     "metadata": {},
     "output_type": "execute_result"
    }
   ],
   "source": [
    "# [5] 모델 학습 적용\n",
    "\n",
    "from tensorflow.keras.callbacks import EarlyStopping\n",
    "\n",
    "early_stop = EarlyStopping(monitor='val_loss', patience=5)\n",
    "\n",
    "model.fit(x_train, y_train,validation_data=(x_test,y_test),\n",
    "         epochs = 100, batch_size=16,\n",
    "         callbacks=[early_stop])"
   ]
  },
  {
   "cell_type": "code",
   "execution_count": 41,
   "id": "820ec14f-823d-4d9c-8a2f-230271c93cda",
   "metadata": {},
   "outputs": [
    {
     "name": "stdout",
     "output_type": "stream",
     "text": [
      "9/9 [==============================] - 3s 10ms/step\n"
     ]
    },
    {
     "data": {
      "image/png": "[encoded data removed]",
      "text/plain": [
       "<Figure size 864x432 with 1 Axes>"
      ]
     },
     "metadata": {
      "needs_background": "light"
     },
     "output_type": "display_data"
    }
   ],
   "source": [
    "# [6] 예측을 통한 정답과의 비교\n",
    "# 오차계산 MAPE 사용, 평균 절대값 백분율 오차\n",
    "\n",
    "pred = model.predict(x_test)\n",
    "\n",
    "plt.figure(figsize=(12,6))\n",
    "plt.title('3MA + 5MA + Adj Close, window size = 40')\n",
    "plt.ylabel('adj close')\n",
    "plt.xlabel('period')\n",
    "plt.plot(y_test, label='actual')\n",
    "plt.plot(pred, label='prediction')\n",
    "plt.grid()\n",
    "plt.legend(loc='best')\n",
    "\n",
    "plt.show()"
   ]
  },
  {
   "cell_type": "code",
   "execution_count": 42,
   "id": "293b3805-4583-4d94-b2ff-e8af2f818dce",
   "metadata": {},
   "outputs": [
    {
     "name": "stdout",
     "output_type": "stream",
     "text": [
      "0.013072386048246107\n"
     ]
    }
   ],
   "source": [
    "# 평균절대값백분율오차 ( MAPE )\n",
    "\n",
    "print( np.sum(abs(y_test-pred)/y_test) / len(x_test) )"
   ]
  },
  {
   "cell_type": "code",
   "execution_count": null,
   "id": "fcd76b1b-8af4-48dc-bac6-8498639f8e7a",
   "metadata": {},
   "outputs": [],
   "source": []
  }
 ],
 "metadata": {
  "kernelspec": {
   "display_name": "Python 3",
   "language": "python",
   "name": "python3"
  },
  "language_info": {
   "codemirror_mode": {
    "name": "ipython",
    "version": 3
   },
   "file_extension": ".py",
   "mimetype": "text/x-python",
   "name": "python",
   "nbconvert_exporter": "python",
   "pygments_lexer": "ipython3",
   "version": "3.8.8"
  }
 },
 "nbformat": 4,
 "nbformat_minor": 5
}
