{
 "cells": [
  {
   "cell_type": "code",
   "execution_count": 1,
   "id": "204f6da8-d4cc-4b6b-b866-142074f027b7",
   "metadata": {},
   "outputs": [],
   "source": [
    "import numpy as np"
   ]
  },
  {
   "cell_type": "code",
   "execution_count": 2,
   "id": "03db607f-381c-4ad7-867d-53217d9b1ddc",
   "metadata": {},
   "outputs": [],
   "source": [
    "def sigmoid(x):\n",
    "    return 1/(1+np.exp(-x))"
   ]
  },
  {
   "cell_type": "code",
   "execution_count": 3,
   "id": "2c8752ec-26e6-467b-830d-5badd9658fcd",
   "metadata": {},
   "outputs": [],
   "source": [
    "# 수치 미분\n",
    "def numerical_derivative(f,x):\n",
    "    delta_x = 1e-4\n",
    "    grad = np.zeros_like(x)\n",
    "    \n",
    "    # print(\"debug 1. initial input variable =\", x)\n",
    "    # print(\"debug 2. initial input grad =\", grad)\n",
    "    # print(\"=\"*25)\n",
    "    \n",
    "    it = np.nditer(x,flags=['multi_index'], op_flags=['readwrite'])\n",
    "    \n",
    "    while not it.finished:\n",
    "        idx = it.multi_index\n",
    "        \n",
    "        #  print(\"debug 3. idx=\", idx, \", x[idx]=\",x[idx])\n",
    "        \n",
    "        tmp_val = x[idx]\n",
    "        x[idx] = float(tmp_val) + delta_x\n",
    "        fx1 = f(x) #f(x+delta_x)\n",
    "        \n",
    "        x[idx] = float(tmp_val) - delta_x\n",
    "        fx2 = f(x) #f(x-delta_x)\n",
    "        grad[idx]=(fx1- fx2) / (2*delta_x)\n",
    "        \n",
    "        # print(\"debug 4. grad[idx] = \", grad[idx])\n",
    "        # print(\"debug 5. grad = \", grad)\n",
    "        # print(\"=\"*25)\n",
    "        \n",
    "        x[idx] = tmp_val\n",
    "        it.iternext()\n",
    "        \n",
    "    return grad"
   ]
  },
  {
   "cell_type": "code",
   "execution_count": 4,
   "id": "42ba0db4-41db-442a-aa81-66085f5e97d2",
   "metadata": {},
   "outputs": [],
   "source": [
    "class LogicGate:\n",
    "    def __init__(self, gate_name, xdata, tdata):\n",
    "        self.name = gate_name\n",
    "        self.__xdata = xdata\n",
    "        self.__tdata = tdata\n",
    "        \n",
    "        self.__xdata = xdata.reshape(4,2)\n",
    "        self.__tdata = tdata.reshape(4,1)\n",
    "        \n",
    "        self.__W2 = np.random.rand(2,6)\n",
    "        self.__b2 = np.random.rand(6)\n",
    "        \n",
    "        self.__W3 = np.random.rand(6,1)\n",
    "        self.__b3 = np.random.rand(1)\n",
    "        \n",
    "        self.__learning_rate = 1e-2\n",
    "    \n",
    "    def feed_forward(self):\n",
    "        delta = 1e-7\n",
    "        \n",
    "        z2 = np.dot(self.__xdata, self.__W2) + self.__b2\n",
    "        a2 = sigmoid(z2)\n",
    "        \n",
    "        z3 = np.dot(a2, self.__W3)+self.__b3\n",
    "        y=sigmoid(z3)\n",
    "        \n",
    "        return -np.sum(self.__tdata*np.log(y+delta) + (1-self.__tdata)*np.log((1-y) + delta))\n",
    "        \n",
    "    \n",
    "    def train(self):\n",
    "        f=lambda x: self.feed_forward()\n",
    "\n",
    "        print(\"Initial loss_func :\", self.feed_forward())\n",
    "\n",
    "        for step in range(10001):\n",
    "            self.__W2 -= self.__learning_rate*numerical_derivative(f,self.__W2)\n",
    "            self.__b2 -= self.__learning_rate*numerical_derivative(f,self.__b2)\n",
    "            \n",
    "            self.__W3 -= self.__learning_rate*numerical_derivative(f,self.__W3)\n",
    "            self.__b3 -= self.__learning_rate*numerical_derivative(f,self.__b3)\n",
    "\n",
    "            if step%400==0:\n",
    "                print(\"step :\",step,\"// loss value :\", self.feed_forward())\n",
    "    \n",
    "    def predict(self, xdata):\n",
    "        z2 = np.dot(xdata,self.__W2) +self.__b2\n",
    "        a2 = sigmoid(z2)\n",
    "        \n",
    "        z3 = np.dot(a2, self.__W3) + self.__b3\n",
    "        y = sigmoid(z3)\n",
    "\n",
    "        if y > 0.5:\n",
    "            result = 1  # True\n",
    "        else:\n",
    "            result = 0  # False\n",
    "        \n",
    "        return y, result"
   ]
  },
  {
   "cell_type": "code",
   "execution_count": 5,
   "id": "afafb4d0-5a51-488b-b8b1-60537af35f51",
   "metadata": {},
   "outputs": [
    {
     "name": "stdout",
     "output_type": "stream",
     "text": [
      "Initial loss_func : 9.800400622997586\n",
      "step : 0 // loss value : 9.486368997017669\n",
      "step : 400 // loss value : 2.157162051142102\n",
      "step : 800 // loss value : 1.9125229127139085\n",
      "step : 1200 // loss value : 1.5323960337087348\n",
      "step : 1600 // loss value : 1.167609330546732\n",
      "step : 2000 // loss value : 0.8684858099697783\n",
      "step : 2400 // loss value : 0.6406076636179565\n",
      "step : 2800 // loss value : 0.47817110398980867\n",
      "step : 3200 // loss value : 0.36562348450059723\n",
      "step : 3600 // loss value : 0.2874192098625653\n",
      "step : 4000 // loss value : 0.23201693529522666\n",
      "step : 4400 // loss value : 0.1917542763392119\n",
      "step : 4800 // loss value : 0.1617149983655905\n",
      "step : 5200 // loss value : 0.13874282425606382\n",
      "step : 5600 // loss value : 0.12077899430839595\n",
      "step : 6000 // loss value : 0.10645096599120855\n",
      "step : 6400 // loss value : 0.09482195682167466\n",
      "step : 6800 // loss value : 0.0852376824944058\n",
      "step : 7200 // loss value : 0.07723111259444165\n",
      "step : 7600 // loss value : 0.07046209966447936\n",
      "step : 8000 // loss value : 0.06467829625940116\n",
      "step : 8400 // loss value : 0.05968931632893443\n",
      "step : 8800 // loss value : 0.05534930431097252\n",
      "step : 9200 // loss value : 0.051544949842719956\n",
      "step : 9600 // loss value : 0.048187098660842406\n",
      "step : 10000 // loss value : 0.045204782541907976\n"
     ]
    }
   ],
   "source": [
    "# AND 게이트 훈련\n",
    "xdata = np.array([ [0,0],[0,1],[1,0],[1,1] ])\n",
    "tdata = np.array([ 0,0,0,1 ])\n",
    "\n",
    "AND_obj = LogicGate(\"AND_GATE\", xdata, tdata)\n",
    "AND_obj.train()"
   ]
  },
  {
   "cell_type": "code",
   "execution_count": 6,
   "id": "d9da7509-44b6-405b-bd90-8222b5638a17",
   "metadata": {},
   "outputs": [
    {
     "name": "stdout",
     "output_type": "stream",
     "text": [
      "AND_GATE\n",
      "(array([0.00025255]), 0)\n",
      "(array([0.01163411]), 0)\n",
      "(array([0.01145328]), 0)\n",
      "(array([0.97850351]), 1)\n"
     ]
    }
   ],
   "source": [
    "# AND Gate prediction\n",
    "print(AND_obj.name)\n",
    "\n",
    "test_data = np.array([ [0,0], [0,1], [1,0], [1,1] ])\n",
    "\n",
    "for data in test_data:\n",
    "    print(AND_obj.predict(data))"
   ]
  },
  {
   "cell_type": "code",
   "execution_count": 7,
   "id": "3a80add3-99ad-45de-9a71-043abdd67889",
   "metadata": {},
   "outputs": [
    {
     "name": "stdout",
     "output_type": "stream",
     "text": [
      "Initial loss_func : 2.742577487980257\n",
      "step : 0 // loss value : 2.7228688279932314\n",
      "step : 400 // loss value : 1.9860729254974687\n",
      "step : 800 // loss value : 1.7755875553998175\n",
      "step : 1200 // loss value : 1.4563044332839117\n",
      "step : 1600 // loss value : 1.0782655081643644\n",
      "step : 2000 // loss value : 0.7489318617795314\n",
      "step : 2400 // loss value : 0.5181204905099542\n",
      "step : 2800 // loss value : 0.3700960011824841\n",
      "step : 3200 // loss value : 0.27568168332709975\n",
      "step : 3600 // loss value : 0.2136316088877849\n",
      "step : 4000 // loss value : 0.17120429622536337\n",
      "step : 4400 // loss value : 0.1410445924985297\n",
      "step : 4800 // loss value : 0.1188468787820115\n",
      "step : 5200 // loss value : 0.10201046335919399\n",
      "step : 5600 // loss value : 0.08890763701182422\n",
      "step : 6000 // loss value : 0.07848369384987947\n",
      "step : 6400 // loss value : 0.07003296779691597\n",
      "step : 6800 // loss value : 0.06306947755348298\n",
      "step : 7200 // loss value : 0.05724977781620975\n",
      "step : 7600 // loss value : 0.05232550274408419\n",
      "step : 8000 // loss value : 0.04811332022241897\n",
      "step : 8400 // loss value : 0.044475398484792296\n",
      "step : 8800 // loss value : 0.04130639608101054\n",
      "step : 9200 // loss value : 0.038524603628909436\n",
      "step : 9600 // loss value : 0.03606579020505327\n",
      "step : 10000 // loss value : 0.03387884968839984\n"
     ]
    }
   ],
   "source": [
    "# OR 게이트 훈련\n",
    "xdata = np.array([ [0,0],[0,1],[1,0],[1,1] ])\n",
    "tdata = np.array([ 0,1,1,1 ])\n",
    "\n",
    "OR_obj = LogicGate(\"OR_GATE\", xdata, tdata)\n",
    "OR_obj.train()"
   ]
  },
  {
   "cell_type": "code",
   "execution_count": 8,
   "id": "f3f2a99c-7662-4830-81d6-5211d30bee50",
   "metadata": {},
   "outputs": [
    {
     "name": "stdout",
     "output_type": "stream",
     "text": [
      "OR_GATE\n",
      "(array([0.01949352]), 0)\n",
      "(array([0.99319138]), 1)\n",
      "(array([0.99293136]), 1)\n",
      "(array([0.99973245]), 1)\n"
     ]
    }
   ],
   "source": [
    "# OR Gate prediction\n",
    "print(OR_obj.name)\n",
    "\n",
    "test_data = np.array([ [0,0], [0,1], [1,0], [1,1] ])\n",
    "\n",
    "for data in test_data:\n",
    "    print( OR_obj.predict(data))"
   ]
  },
  {
   "cell_type": "code",
   "execution_count": 9,
   "id": "f9c42e13-a008-4f02-99df-ab0fb8b7cf57",
   "metadata": {},
   "outputs": [
    {
     "name": "stdout",
     "output_type": "stream",
     "text": [
      "Initial loss_func : 3.2046413796002238\n",
      "step : 0 // loss value : 3.1781957094155566\n",
      "step : 400 // loss value : 2.3437621958954282\n",
      "step : 800 // loss value : 2.230666675069466\n",
      "step : 1200 // loss value : 2.0585859014791694\n",
      "step : 1600 // loss value : 1.7924098223768412\n",
      "step : 2000 // loss value : 1.4652949703218008\n",
      "step : 2400 // loss value : 1.1260976179718432\n",
      "step : 2800 // loss value : 0.8277298826765087\n",
      "step : 3200 // loss value : 0.6029136169502268\n",
      "step : 3600 // loss value : 0.4477482235497027\n",
      "step : 4000 // loss value : 0.34278113844696667\n",
      "step : 4400 // loss value : 0.2706771720060941\n",
      "step : 4800 // loss value : 0.21974493542658816\n",
      "step : 5200 // loss value : 0.18266404822385363\n",
      "step : 5600 // loss value : 0.15488582338295714\n",
      "step : 6000 // loss value : 0.1335365064697495\n",
      "step : 6400 // loss value : 0.11675450934901105\n",
      "step : 6800 // loss value : 0.10330086912935557\n",
      "step : 7200 // loss value : 0.09232897353782527\n",
      "step : 7600 // loss value : 0.0832458774499493\n",
      "step : 8000 // loss value : 0.07562681047418751\n",
      "step : 8400 // loss value : 0.06916117101633071\n",
      "step : 8800 // loss value : 0.06361758408793518\n",
      "step : 9200 // loss value : 0.058820773923717234\n",
      "step : 9600 // loss value : 0.054635928091802094\n",
      "step : 10000 // loss value : 0.050957916388436095\n"
     ]
    }
   ],
   "source": [
    "# NAND 게이트 훈련\n",
    "xdata = np.array([ [0,0],[0,1],[1,0],[1,1] ])\n",
    "tdata = np.array([ 1,1,1,0 ])\n",
    "\n",
    "NAND_obj = LogicGate(\"NAND_GATE\", xdata, tdata)\n",
    "NAND_obj.train()"
   ]
  },
  {
   "cell_type": "code",
   "execution_count": 10,
   "id": "ead87efe-b0f5-44a1-996d-b14cb716db03",
   "metadata": {},
   "outputs": [
    {
     "name": "stdout",
     "output_type": "stream",
     "text": [
      "NAND_GATE\n",
      "(array([0.99977582]), 1)\n",
      "(array([0.98665456]), 1)\n",
      "(array([0.9878981]), 1)\n",
      "(array([0.02481014]), 0)\n"
     ]
    }
   ],
   "source": [
    "# NAND Gate prediction\n",
    "print(NAND_obj.name)\n",
    "\n",
    "test_data = np.array([ [0,0], [0,1], [1,0], [1,1] ])\n",
    "\n",
    "for data in test_data:\n",
    "    print(NAND_obj.predict(data))"
   ]
  },
  {
   "cell_type": "code",
   "execution_count": 11,
   "id": "5bf64385-d679-42bb-81de-9d620978ab58",
   "metadata": {},
   "outputs": [
    {
     "name": "stdout",
     "output_type": "stream",
     "text": [
      "Initial loss_func : 4.741148588634095\n",
      "step : 0 // loss value : 4.628088926061649\n",
      "step : 400 // loss value : 2.764518200767805\n",
      "step : 800 // loss value : 2.759695805308941\n",
      "step : 1200 // loss value : 2.7539770384565516\n",
      "step : 1600 // loss value : 2.74668736445109\n",
      "step : 2000 // loss value : 2.7369565680068852\n",
      "step : 2400 // loss value : 2.723598851214584\n",
      "step : 2800 // loss value : 2.7049657238571254\n",
      "step : 3200 // loss value : 2.6787734430494403\n",
      "step : 3600 // loss value : 2.641979764783395\n",
      "step : 4000 // loss value : 2.59098540767772\n",
      "step : 4400 // loss value : 2.5226725483097345\n",
      "step : 4800 // loss value : 2.436373727866629\n",
      "step : 5200 // loss value : 2.3351912261072756\n",
      "step : 5600 // loss value : 2.2245280775419234\n",
      "step : 6000 // loss value : 2.1086672747178037\n",
      "step : 6400 // loss value : 1.9882161956730602\n",
      "step : 6800 // loss value : 1.8594247496982095\n",
      "step : 7200 // loss value : 1.715551302289703\n",
      "step : 7600 // loss value : 1.5518243484315326\n",
      "step : 8000 // loss value : 1.3719237110233258\n",
      "step : 8400 // loss value : 1.1883284922441129\n",
      "step : 8800 // loss value : 1.015446238665969\n",
      "step : 9200 // loss value : 0.8627383026766173\n",
      "step : 9600 // loss value : 0.7332765322821706\n",
      "step : 10000 // loss value : 0.6259609885678268\n"
     ]
    }
   ],
   "source": [
    "# XOR 게이트 훈련\n",
    "xdata = np.array([ [0,0],[0,1],[1,0],[1,1] ])\n",
    "tdata = np.array([ 0,1,1,0 ])\n",
    "\n",
    "XOR_obj = LogicGate(\"XOR_GATE\", xdata, tdata)\n",
    "XOR_obj.train()"
   ]
  },
  {
   "cell_type": "code",
   "execution_count": 12,
   "id": "55d2f9f2-70bd-4726-8caf-d70a484d963d",
   "metadata": {},
   "outputs": [
    {
     "name": "stdout",
     "output_type": "stream",
     "text": [
      "XOR_GATE\n",
      "(array([0.05036063]), 0)\n",
      "(array([0.83860692]), 1)\n",
      "(array([0.86301701]), 1)\n",
      "(array([0.22194216]), 0)\n"
     ]
    }
   ],
   "source": [
    "# XOR Gate prediction\n",
    "print(XOR_obj.name)\n",
    "\n",
    "test_data = np.array([ [0,0], [0,1], [1,0], [1,1] ])\n",
    "\n",
    "for data in test_data:\n",
    "    print(XOR_obj.predict(data))"
   ]
  },
  {
   "cell_type": "code",
   "execution_count": null,
   "id": "88c37a81-1a1c-4ce1-8cac-89b06da87476",
   "metadata": {},
   "outputs": [],
   "source": []
  }
 ],
 "metadata": {
  "kernelspec": {
   "display_name": "Python 3",
   "language": "python",
   "name": "python3"
  },
  "language_info": {
   "codemirror_mode": {
    "name": "ipython",
    "version": 3
   },
   "file_extension": ".py",
   "mimetype": "text/x-python",
   "name": "python",
   "nbconvert_exporter": "python",
   "pygments_lexer": "ipython3",
   "version": "3.8.8"
  }
 },
 "nbformat": 4,
 "nbformat_minor": 5
}
