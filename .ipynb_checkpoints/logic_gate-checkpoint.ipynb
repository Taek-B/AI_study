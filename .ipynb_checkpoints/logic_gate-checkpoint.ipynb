{
 "cells": [
  {
   "cell_type": "code",
   "execution_count": 1,
   "id": "c4d82602-07f7-4ba6-b826-042b93a5680f",
   "metadata": {},
   "outputs": [],
   "source": [
    "import numpy as np"
   ]
  },
  {
   "cell_type": "code",
   "execution_count": 2,
   "id": "9ab5e8db-c723-41c9-8d8b-83fdef6a41a7",
   "metadata": {},
   "outputs": [],
   "source": [
    "def sigmoid(x):\n",
    "    return 1/(1+np.exp(-x))"
   ]
  },
  {
   "cell_type": "code",
   "execution_count": 3,
   "id": "c916ba8d-ebde-4810-98ba-433979bfb3bc",
   "metadata": {},
   "outputs": [],
   "source": [
    "# 수치 미분\n",
    "def numerical_derivative(f,x):\n",
    "    delta_x = 1e-4\n",
    "    grad = np.zeros_like(x)\n",
    "    \n",
    "    # print(\"debug 1. initial input variable =\", x)\n",
    "    # print(\"debug 2. initial input grad =\", grad)\n",
    "    # print(\"=\"*25)\n",
    "    \n",
    "    it = np.nditer(x,flags=['multi_index'], op_flags=['readwrite'])\n",
    "    \n",
    "    while not it.finished:\n",
    "        idx = it.multi_index\n",
    "        \n",
    "        #  print(\"debug 3. idx=\", idx, \", x[idx]=\",x[idx])\n",
    "        \n",
    "        tmp_val = x[idx]\n",
    "        x[idx] = float(tmp_val) + delta_x\n",
    "        fx1 = f(x) #f(x+delta_x)\n",
    "        \n",
    "        x[idx] = float(tmp_val) - delta_x\n",
    "        fx2 = f(x) #f(x-delta_x)\n",
    "        grad[idx]=(fx1- fx2) / (2*delta_x)\n",
    "        \n",
    "        # print(\"debug 4. grad[idx] = \", grad[idx])\n",
    "        # print(\"debug 5. grad = \", grad)\n",
    "        # print(\"=\"*25)\n",
    "        \n",
    "        x[idx] = tmp_val\n",
    "        it.iternext()\n",
    "        \n",
    "    return grad"
   ]
  },
  {
   "cell_type": "code",
   "execution_count": 4,
   "id": "d4b17b64-4ae4-405c-9a1a-b3dcb26d6f2b",
   "metadata": {},
   "outputs": [],
   "source": [
    "class LogicGate:\n",
    "    def __init__(self, gate_name, xdata, tdata):\n",
    "        self.name = gate_name\n",
    "        self.__xdata = xdata.reshape(4,2)\n",
    "        self.__tdata = tdata.reshape(4,1)\n",
    "        \n",
    "        self.__W = np.random.rand(2,1)\n",
    "        self.__b = np.random.rand(1)\n",
    "        \n",
    "        self.__learning_rate = 1e-2\n",
    "    \n",
    "    def __loss_func(self):\n",
    "        delta = 1e-7\n",
    "        z = np.dot(self.__xdata, self.__W) + self.__b\n",
    "        y = sigmoid(z)\n",
    "        \n",
    "        return -np.sum(self.__tdata*np.log(y+delta) + (1-self.__tdata)*np.log((1-y) + delta))\n",
    "    \n",
    "    def train(self):\n",
    "        f=lambda x: self.__loss_func()\n",
    "\n",
    "        print(\"Initial loss_func :\", self.__loss_func())\n",
    "\n",
    "        for step in range(8001):\n",
    "            self.__W -= self.__learning_rate*numerical_derivative(f,self.__W)\n",
    "            self.__b -= self.__learning_rate*numerical_derivative(f,self.__b)\n",
    "\n",
    "            if step%400==0:\n",
    "                print(\"step\",step,\"error value=\", self.__loss_func())\n",
    "    \n",
    "    def predict(self, input_data):\n",
    "        z = np.dot(input_data,self.__W) +self.__b\n",
    "        y = sigmoid(z)\n",
    "\n",
    "        if y > 0.5:\n",
    "            result = 1  # True\n",
    "        else:\n",
    "            result = 0  # False\n",
    "        \n",
    "        return y, result"
   ]
  },
  {
   "cell_type": "code",
   "execution_count": 5,
   "id": "a094fef9-6893-4d9e-bb67-3cf68d866949",
   "metadata": {},
   "outputs": [
    {
     "name": "stdout",
     "output_type": "stream",
     "text": [
      "Initial loss_func : 3.1023102680045804\n",
      "step 0 error value= 3.0782579687492615\n",
      "step 400 error value= 1.5276405713771608\n",
      "step 800 error value= 1.137416784817008\n",
      "step 1200 error value= 0.9153959918328454\n",
      "step 1600 error value= 0.7685836780361044\n",
      "step 2000 error value= 0.6629408345394439\n",
      "step 2400 error value= 0.582780411150259\n",
      "step 2800 error value= 0.5196931691760506\n",
      "step 3200 error value= 0.4686876441239438\n",
      "step 3600 error value= 0.4265803805910242\n",
      "step 4000 error value= 0.3912306949139286\n",
      "step 4400 error value= 0.3611395538141407\n",
      "step 4800 error value= 0.33522299800095423\n",
      "step 5200 error value= 0.31267644799565514\n",
      "step 5600 error value= 0.2928895437607112\n",
      "step 6000 error value= 0.2753906163188178\n",
      "step 6400 error value= 0.25980931097623094\n",
      "step 6800 error value= 0.24585074287711414\n",
      "step 7200 error value= 0.23327720951000203\n",
      "step 7600 error value= 0.22189498835805788\n",
      "step 8000 error value= 0.2115446362017085\n"
     ]
    }
   ],
   "source": [
    "# AND 게이트 훈련\n",
    "xdata = np.array([ [0,0],[0,1],[1,0],[1,1] ])\n",
    "tdata = np.array([ 0,0,0,1 ])\n",
    "\n",
    "AND_obj = LogicGate(\"AND_GATE\", xdata, tdata)\n",
    "AND_obj.train()"
   ]
  },
  {
   "cell_type": "code",
   "execution_count": 6,
   "id": "c3b50195-869d-49e6-b2ef-649752debf0f",
   "metadata": {},
   "outputs": [
    {
     "name": "stdout",
     "output_type": "stream",
     "text": [
      "AND_GATE \n",
      "\n",
      "[0 0]  =  0 \n",
      "\n",
      "[0 1]  =  0 \n",
      "\n",
      "[1 0]  =  0 \n",
      "\n",
      "[1 1]  =  1 \n",
      "\n"
     ]
    }
   ],
   "source": [
    "# AND Gate prediction\n",
    "print(AND_obj.name, '\\n')\n",
    "\n",
    "test_data = np.array([ [0,0], [0,1], [1,0], [1,1] ])\n",
    "\n",
    "for input_data in test_data:\n",
    "    (sigmoidid_val, logical_val) = AND_obj.predict(input_data)\n",
    "    print( input_data, ' = ', logical_val, '\\n')"
   ]
  },
  {
   "cell_type": "code",
   "execution_count": 7,
   "id": "10c2d299-813b-448e-98c2-b4b8df6af876",
   "metadata": {},
   "outputs": [
    {
     "name": "stdout",
     "output_type": "stream",
     "text": [
      "Initial loss_func : 1.9672567140779404\n",
      "step 0 error value= 1.9622947774062927\n",
      "step 400 error value= 1.1763126369656334\n",
      "step 800 error value= 0.8397341951123481\n",
      "step 1200 error value= 0.6464103825655947\n",
      "step 1600 error value= 0.5221985446339983\n",
      "step 2000 error value= 0.4361928164143382\n",
      "step 2400 error value= 0.37341754733222576\n",
      "step 2800 error value= 0.3257581403664932\n",
      "step 3200 error value= 0.2884482075650159\n",
      "step 3600 error value= 0.25851262143135956\n",
      "step 4000 error value= 0.23400358888619446\n",
      "step 4400 error value= 0.21359562958407294\n",
      "step 4800 error value= 0.1963573313886229\n",
      "step 5200 error value= 0.18161619489252914\n",
      "step 5600 error value= 0.168875233133696\n",
      "step 6000 error value= 0.15775967652810213\n",
      "step 6400 error value= 0.14798187459506182\n",
      "step 6800 error value= 0.13931756650669289\n",
      "step 7200 error value= 0.13158946266443122\n",
      "step 7600 error value= 0.12465564910853803\n",
      "step 8000 error value= 0.11840124627690964\n"
     ]
    }
   ],
   "source": [
    "# OR 게이트 훈련\n",
    "xdata = np.array([ [0,0],[0,1],[1,0],[1,1] ])\n",
    "tdata = np.array([ 0,1,1,1 ])\n",
    "\n",
    "OR_obj = LogicGate(\"OR_GATE\", xdata, tdata)\n",
    "OR_obj.train()"
   ]
  },
  {
   "cell_type": "code",
   "execution_count": 8,
   "id": "82598dc1-aa59-448b-8633-c074ff73d1f2",
   "metadata": {},
   "outputs": [
    {
     "name": "stdout",
     "output_type": "stream",
     "text": [
      "OR_GATE \n",
      "\n",
      "[0 0]  =  0 \n",
      "\n",
      "[0 1]  =  1 \n",
      "\n",
      "[1 0]  =  1 \n",
      "\n",
      "[1 1]  =  1 \n",
      "\n"
     ]
    }
   ],
   "source": [
    "# OR Gate prediction\n",
    "print(OR_obj.name, '\\n')\n",
    "\n",
    "test_data = np.array([ [0,0], [0,1], [1,0], [1,1] ])\n",
    "\n",
    "for input_data in test_data:\n",
    "    (sigmoidid_val, logical_val) = OR_obj.predict(input_data)\n",
    "    print( input_data, ' = ', logical_val, '\\n')"
   ]
  },
  {
   "cell_type": "code",
   "execution_count": 9,
   "id": "553d1fd5-8b83-4830-b0d1-fc92d042ec5c",
   "metadata": {},
   "outputs": [
    {
     "name": "stdout",
     "output_type": "stream",
     "text": [
      "Initial loss_func : 3.193629191689019\n",
      "step 0 error value= 3.183753211571168\n",
      "step 400 error value= 1.7095345594662867\n",
      "step 800 error value= 1.2281120105910626\n",
      "step 1200 error value= 0.9711206871974465\n",
      "step 1600 error value= 0.8069431594675782\n",
      "step 2000 error value= 0.6912062786441561\n",
      "step 2400 error value= 0.6045653794581559\n",
      "step 2800 error value= 0.5370303768551681\n",
      "step 3200 error value= 0.4828234384879271\n",
      "step 3600 error value= 0.4383281894446155\n",
      "step 4000 error value= 0.4011469664169937\n",
      "step 4400 error value= 0.3696191588956381\n",
      "step 4800 error value= 0.342554522263804\n",
      "step 5200 error value= 0.3190759762847003\n",
      "step 5600 error value= 0.29852220603566837\n",
      "step 6000 error value= 0.2803848221837423\n",
      "step 6400 error value= 0.26426643659728244\n",
      "step 6800 error value= 0.24985189157794396\n",
      "step 7200 error value= 0.23688803395480862\n",
      "step 7600 error value= 0.2251691961834138\n",
      "step 8000 error value= 0.2145265817078536\n"
     ]
    }
   ],
   "source": [
    "# NAND 게이트 훈련\n",
    "xdata = np.array([ [0,0],[0,1],[1,0],[1,1] ])\n",
    "tdata = np.array([ 1,1,1,0 ])\n",
    "\n",
    "NAND_obj = LogicGate(\"NAND_GATE\", xdata, tdata)\n",
    "NAND_obj.train()"
   ]
  },
  {
   "cell_type": "code",
   "execution_count": 10,
   "id": "bb06d49b-a2ee-4fa5-a051-57dce0581981",
   "metadata": {},
   "outputs": [
    {
     "name": "stdout",
     "output_type": "stream",
     "text": [
      "NAND_GATE \n",
      "\n",
      "[0 0]  =  1 \n",
      "\n",
      "[0 1]  =  1 \n",
      "\n",
      "[1 0]  =  1 \n",
      "\n",
      "[1 1]  =  0 \n",
      "\n"
     ]
    }
   ],
   "source": [
    "# NAND Gate prediction\n",
    "print(NAND_obj.name, '\\n')\n",
    "\n",
    "test_data = np.array([ [0,0], [0,1], [1,0], [1,1] ])\n",
    "\n",
    "for input_data in test_data:\n",
    "    (sigmoidid_val, logical_val) = NAND_obj.predict(input_data)\n",
    "    print( input_data, ' = ', logical_val, '\\n')"
   ]
  },
  {
   "cell_type": "code",
   "execution_count": 11,
   "id": "f519f2c5-71ae-4e2c-b8a6-b7d0e01d25a1",
   "metadata": {},
   "outputs": [
    {
     "name": "stdout",
     "output_type": "stream",
     "text": [
      "Initial loss_func : 3.272203018444964\n",
      "step 0 error value= 3.2595932300192194\n",
      "step 400 error value= 2.778058053675072\n",
      "step 800 error value= 2.7736094978284944\n",
      "step 1200 error value= 2.7728059125394\n",
      "step 1600 error value= 2.7726400409527683\n",
      "step 2000 error value= 2.772601388923145\n",
      "step 2400 error value= 2.772591562823755\n",
      "step 2800 error value= 2.7725889302783493\n",
      "step 3200 error value= 2.7725882047295234\n",
      "step 3600 error value= 2.7725880018702425\n",
      "step 4000 error value= 2.772587944750362\n",
      "step 4400 error value= 2.7725879286119373\n",
      "step 4800 error value= 2.7725879240447835\n",
      "step 5200 error value= 2.7725879227512724\n",
      "step 5600 error value= 2.7725879223847874\n",
      "step 6000 error value= 2.772587922280934\n",
      "step 6400 error value= 2.772587922251502\n",
      "step 6800 error value= 2.7725879222431606\n",
      "step 7200 error value= 2.772587922240797\n",
      "step 7600 error value= 2.7725879222401266\n",
      "step 8000 error value= 2.7725879222399366\n"
     ]
    }
   ],
   "source": [
    "# XOR 게이트 훈련\n",
    "xdata = np.array([ [0,0],[0,1],[1,0],[1,1] ])\n",
    "tdata = np.array([ 0,1,1,0 ])\n",
    "\n",
    "XOR_obj = LogicGate(\"XOR_GATE\", xdata, tdata)\n",
    "XOR_obj.train()"
   ]
  },
  {
   "cell_type": "code",
   "execution_count": 15,
   "id": "d15e3574-742c-4939-8b2b-85087ebbf1ae",
   "metadata": {},
   "outputs": [
    {
     "name": "stdout",
     "output_type": "stream",
     "text": [
      "XOR_GATE \n",
      "\n",
      "[0 0]  =  0 \n",
      "\n",
      "(array([0.49999984]), 0) \n",
      "\n",
      "[0 1]  =  0 \n",
      "\n",
      "(array([0.49999998]), 0) \n",
      "\n",
      "[1 0]  =  0 \n",
      "\n",
      "(array([0.49999998]), 0) \n",
      "\n",
      "[1 1]  =  1 \n",
      "\n",
      "(array([0.50000011]), 1) \n",
      "\n"
     ]
    }
   ],
   "source": [
    "# XOR Gate prediction\n",
    "print(XOR_obj.name, '\\n')\n",
    "\n",
    "test_data = np.array([ [0,0], [0,1], [1,0], [1,1] ])\n",
    "\n",
    "for input_data in test_data:\n",
    "    (sigmoidid_val, logical_val) = XOR_obj.predict(input_data)\n",
    "    print( input_data, ' = ', logical_val, '\\n')\n",
    "    print(XOR_obj.predict(input_data), '\\n')\n",
    "    \n",
    "# 결과값 오류오 인해 (XOR = NAND + OR)조합으로 계산해서 XOR 학습시켜야함!!!"
   ]
  },
  {
   "cell_type": "code",
   "execution_count": 13,
   "id": "64af6cc9-5ae5-4181-ba28-f942c8e39051",
   "metadata": {},
   "outputs": [
    {
     "name": "stdout",
     "output_type": "stream",
     "text": [
      "[0 0]  =  0\n",
      "\n",
      "[0 1]  =  1\n",
      "\n",
      "[1 0]  =  1\n",
      "\n",
      "[1 1]  =  0\n",
      "\n"
     ]
    }
   ],
   "source": [
    "# XOR = NAND + OR 조합으로 계산\n",
    "input_data = np.array([ [0,0], [0,1], [1,0], [1,1] ])\n",
    "\n",
    "s1 = []  # NAND 출력\n",
    "s2 = []  # OR 출력\n",
    "\n",
    "new_input_data = []  # AND 입력\n",
    "final_output = []    # AND 출력\n",
    "\n",
    "for index in range(len(input_data)):\n",
    "    \n",
    "    s1 = NAND_obj.predict(input_data[index])  # NAND 출력\n",
    "    s2 = OR_obj.predict(input_data[index])    # OR 출력\n",
    "    # s1 = 1, 1, 1, 0\n",
    "    # s2 = 0, 1, 1, 1\n",
    "    \n",
    "    \n",
    "    new_input_data.append(s1[-1])   # AND 입력\n",
    "    new_input_data.append(s2[-1])   # AND 입력\n",
    "    \n",
    "    (sigmoid_val, logical_val) = AND_obj.predict(np.array(new_input_data))\n",
    "    \n",
    "    final_output.append(logical_val)  # AND 출력, 즉 XOR 출력\n",
    "    new_input_data = []  # AND 입력 초기화\n",
    "    \n",
    "for index in range(len(input_data)):\n",
    "    print( input_data[index], ' = ', final_output[index], end='')\n",
    "    print( '\\n' )"
   ]
  },
  {
   "cell_type": "code",
   "execution_count": 14,
   "id": "10559abd-66fd-4a9f-9252-ad32f2773c21",
   "metadata": {},
   "outputs": [
    {
     "name": "stdout",
     "output_type": "stream",
     "text": [
      "(array([0.49999984]), 0)\n",
      "(array([0.49999998]), 0)\n",
      "(array([0.49999998]), 0)\n",
      "(array([0.50000011]), 1)\n"
     ]
    }
   ],
   "source": [
    "for input_data in test_data:\n",
    "    print(XOR_obj.predict(input_data))"
   ]
  },
  {
   "cell_type": "code",
   "execution_count": null,
   "id": "822a320c-859e-4cb5-98e8-ed407c1c4190",
   "metadata": {},
   "outputs": [],
   "source": []
  }
 ],
 "metadata": {
  "kernelspec": {
   "display_name": "Python 3",
   "language": "python",
   "name": "python3"
  },
  "language_info": {
   "codemirror_mode": {
    "name": "ipython",
    "version": 3
   },
   "file_extension": ".py",
   "mimetype": "text/x-python",
   "name": "python",
   "nbconvert_exporter": "python",
   "pygments_lexer": "ipython3",
   "version": "3.8.8"
  }
 },
 "nbformat": 4,
 "nbformat_minor": 5
}
