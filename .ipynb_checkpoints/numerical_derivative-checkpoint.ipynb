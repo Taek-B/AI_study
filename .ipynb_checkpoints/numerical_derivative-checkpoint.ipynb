{
 "cells": [
  {
   "cell_type": "code",
   "execution_count": 1,
   "id": "d649a886-6d6d-4c5a-8212-762166130c78",
   "metadata": {},
   "outputs": [],
   "source": [
    "def my_func1(x):\n",
    "    return x**2"
   ]
  },
  {
   "cell_type": "code",
   "execution_count": 2,
   "id": "912c49f4-7e55-4be7-bb6f-27ec220aa41a",
   "metadata": {},
   "outputs": [],
   "source": [
    "def numerical_derivative(f,x):\n",
    "    delta_x=1e-4\n",
    "    return(f(x+delta_x)-f(x-delta_x))/(2*delta_x)"
   ]
  },
  {
   "cell_type": "code",
   "execution_count": 3,
   "id": "ee314b03-b295-4b51-a3d6-1fbe0e24c794",
   "metadata": {},
   "outputs": [
    {
     "name": "stdout",
     "output_type": "stream",
     "text": [
      "result : 6.000000000012662\n"
     ]
    }
   ],
   "source": [
    "result = numerical_derivative(my_func1, 3)\n",
    "print(\"result :\", result)"
   ]
  },
  {
   "cell_type": "code",
   "execution_count": 4,
   "id": "15e90eb9-e186-45f2-9463-9684be1a9e1a",
   "metadata": {},
   "outputs": [],
   "source": [
    "import numpy as np"
   ]
  },
  {
   "cell_type": "code",
   "execution_count": 5,
   "id": "95f38d0a-f26a-465b-89ad-2265b2238d95",
   "metadata": {},
   "outputs": [],
   "source": [
    "def my_func2(x):\n",
    "    return 3*x*(np.exp(x))"
   ]
  },
  {
   "cell_type": "code",
   "execution_count": 6,
   "id": "e4840f1e-1c37-488f-a9b3-6b6d0307939e",
   "metadata": {},
   "outputs": [
    {
     "name": "stdout",
     "output_type": "stream",
     "text": [
      "result2 : 66.50150507518049\n"
     ]
    }
   ],
   "source": [
    "result2 = numerical_derivative(my_func2, 2)\n",
    "print(\"result2 :\",result2)"
   ]
  },
  {
   "cell_type": "code",
   "execution_count": 7,
   "id": "0c533698-541e-47dd-9632-e490e28f7336",
   "metadata": {},
   "outputs": [
    {
     "name": "stdout",
     "output_type": "stream",
     "text": [
      "3*exp(2) + 3*2*exp(2) == 66.50150489037586\n"
     ]
    }
   ],
   "source": [
    "print(\"3*exp(2) + 3*2*exp(2) == \", end = '')\n",
    "print(3*np.exp(2) + 3*2*np.exp(2))"
   ]
  },
  {
   "cell_type": "code",
   "execution_count": 8,
   "id": "a4b952da-ff5e-4c40-ab02-980bbafd6f80",
   "metadata": {},
   "outputs": [],
   "source": [
    "def numerical_derivative2(f,x):\n",
    "    delta_x = 1e-4\n",
    "    grad = np.zeros_like(x)\n",
    "    \n",
    "    print(\"debug 1. initial input variable =\", x)\n",
    "    print(\"debug 2. initial input grad =\", grad)\n",
    "    print(\"=\"*25)\n",
    "    \n",
    "    it = np.nditer(x,flags = ['multi_index'],op_flags=['readwrite'])\n",
    "    \n",
    "    while not it.finished:\n",
    "        idx = it.multi_index\n",
    "        \n",
    "        print(\"debug 3. idx=\", idx, \", x[idx]=\",x[idx])\n",
    "        \n",
    "        tmp_val = x[idx]\n",
    "        x[idx] = float(tmp_val) + delta_x\n",
    "        fx1 = f(x) #f(x+delta_x)\n",
    "        \n",
    "        x[idx] = float(tmp_val) - delta_x\n",
    "        fx2 = f(x) #f(x-delta_x)\n",
    "        grad[idx]=(fx1- fx2) / (2*delta_x)\n",
    "        \n",
    "        print(\"debug 4. grad[idx] = \", grad[idx])\n",
    "        print(\"debug 5. grad = \", grad)\n",
    "        print(\"=\"*25)\n",
    "        \n",
    "        x[idx] = tmp_val\n",
    "        it.iternext()\n",
    "        \n",
    "    return grad"
   ]
  },
  {
   "cell_type": "code",
   "execution_count": 9,
   "id": "44552b0c-f1b3-419e-b368-aebec332cb90",
   "metadata": {},
   "outputs": [],
   "source": [
    "def func3(input_obj):\n",
    "    x = input_obj[0]\n",
    "    y = input_obj[1]\n",
    "    return(2*x + 3*x*y + np.power(y,3)) #2x + 3xy + y**3"
   ]
  },
  {
   "cell_type": "code",
   "execution_count": 10,
   "id": "67e4b164-7569-4135-a9a9-8acf87cdb553",
   "metadata": {},
   "outputs": [
    {
     "name": "stdout",
     "output_type": "stream",
     "text": [
      "debug 1. initial input variable = [3. 2.]\n",
      "debug 2. initial input grad = [0. 0.]\n",
      "=========================\n",
      "debug 3. idx= (0,) , x[idx]= 3.0\n",
      "debug 4. grad[idx] =  7.999999999999119\n",
      "debug 5. grad =  [8. 0.]\n",
      "=========================\n",
      "debug 3. idx= (1,) , x[idx]= 2.0\n",
      "debug 4. grad[idx] =  21.000000010040765\n",
      "debug 5. grad =  [ 8.         21.00000001]\n",
      "=========================\n"
     ]
    },
    {
     "data": {
      "text/plain": [
       "array([ 8.        , 21.00000001])"
      ]
     },
     "execution_count": 10,
     "metadata": {},
     "output_type": "execute_result"
    }
   ],
   "source": [
    "numerical_derivative2(func3, np.array([3.0 , 2.0]))"
   ]
  },
  {
   "cell_type": "code",
   "execution_count": 11,
   "id": "62c9013a-4883-46cd-b639-07fb490c493b",
   "metadata": {},
   "outputs": [],
   "source": [
    "def func4(input_obj):\n",
    "    w=input_obj[0]\n",
    "    x=input_obj[1]\n",
    "    y=input_obj[2]\n",
    "    z=input_obj[3]\n",
    "    return (w*x + x*y*z + 3*w + z*np.power(y,2)) # wx + xyz + 3w + zy**2"
   ]
  },
  {
   "cell_type": "code",
   "execution_count": 12,
   "id": "f0bbf7a6-9fcd-4fd2-93f2-dfe49e41c2b2",
   "metadata": {},
   "outputs": [
    {
     "name": "stdout",
     "output_type": "stream",
     "text": [
      "debug 1. initial input variable = [3. 2. 3. 4.]\n",
      "debug 2. initial input grad = [0. 0. 0. 0.]\n",
      "=========================\n",
      "debug 3. idx= (0,) , x[idx]= 3.0\n",
      "debug 4. grad[idx] =  5.000000000023874\n",
      "debug 5. grad =  [5. 0. 0. 0.]\n",
      "=========================\n",
      "debug 3. idx= (1,) , x[idx]= 2.0\n",
      "debug 4. grad[idx] =  15.000000000000568\n",
      "debug 5. grad =  [ 5. 15.  0.  0.]\n",
      "=========================\n",
      "debug 3. idx= (2,) , x[idx]= 3.0\n",
      "debug 4. grad[idx] =  31.999999999996476\n",
      "debug 5. grad =  [ 5. 15. 32.  0.]\n",
      "=========================\n",
      "debug 3. idx= (3,) , x[idx]= 4.0\n",
      "debug 4. grad[idx] =  15.000000000000568\n",
      "debug 5. grad =  [ 5. 15. 32. 15.]\n",
      "=========================\n"
     ]
    },
    {
     "data": {
      "text/plain": [
       "array([ 5., 15., 32., 15.])"
      ]
     },
     "execution_count": 12,
     "metadata": {},
     "output_type": "execute_result"
    }
   ],
   "source": [
    "numerical_derivative2(func4, np.array([3.0 , 2.0 , 3.0 , 4.0]))"
   ]
  },
  {
   "cell_type": "code",
   "execution_count": 14,
   "id": "38a8969d-3103-49ce-8af9-f21499103e9c",
   "metadata": {},
   "outputs": [
    {
     "name": "stdout",
     "output_type": "stream",
     "text": [
      "debug 1. initial input variable = [3.]\n",
      "debug 2. initial input grad = [0.]\n",
      "=========================\n",
      "debug 3. idx= (0,) , x[idx]= 3.0\n",
      "debug 4. grad[idx] =  6.000000000012662\n",
      "debug 5. grad =  [6.]\n",
      "=========================\n"
     ]
    },
    {
     "data": {
      "text/plain": [
       "array([6.])"
      ]
     },
     "execution_count": 14,
     "metadata": {},
     "output_type": "execute_result"
    }
   ],
   "source": [
    "numerical_derivative2(my_func1,np.array([3.0]))"
   ]
  },
  {
   "cell_type": "code",
   "execution_count": null,
   "id": "46773a19-da89-4ed5-99f6-92d99b97e043",
   "metadata": {},
   "outputs": [],
   "source": []
  }
 ],
 "metadata": {
  "kernelspec": {
   "display_name": "Python 3",
   "language": "python",
   "name": "python3"
  },
  "language_info": {
   "codemirror_mode": {
    "name": "ipython",
    "version": 3
   },
   "file_extension": ".py",
   "mimetype": "text/x-python",
   "name": "python",
   "nbconvert_exporter": "python",
   "pygments_lexer": "ipython3",
   "version": "3.8.8"
  }
 },
 "nbformat": 4,
 "nbformat_minor": 5
}
